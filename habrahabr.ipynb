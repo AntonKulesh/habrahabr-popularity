{
 "cells": [
  {
   "cell_type": "markdown",
   "metadata": {
    "deletable": true,
    "editable": true
   },
   "source": [
    "# Прогноз популярности статьи на Habrahabr.ru\n",
    "[Ссылка](https://inclass.kaggle.com/c/howpop-habrahabr-favs-lognorm) на соревнование.\n",
    "\n",
    "## Описание\n",
    "Необходимо предсказать популярность поста на Хабре по содержанию и времени публикации. Как известно пользователи Хабра могут добавлять статьи к себе в избранное. Общее количество пользователей, которое это сделали отображается у статьи количеством звездочек. Будем считать что число звездочек, поставленных статье, наиболее хорошо отражает ее популярность.  \n",
    "\n",
    "Более формально, в качестве метрики популярности статьи будем использовать долю статей за последний месяц, у которых количество звездочек меньше чем у текущей статьи. А точнее, доле числа звездочек можно поставить в соответствие квантили стандартного распределения, таким образом получаем числовую характеристику популярности статьи. Популярность статьи 0 означает, что статья получила ровно столько звездочек, сколько в среднем получают статьи. И соответственно чем больше звездочек получила статья по сравнению со средним, тем выше это число.\n",
    "\n",
    "## Оценка качества\n",
    "Метрика — MSE. Неоходимо построить модель, которая объясняет как можно больше вариации. В силу особенности нормализации целевой переменной, коэффициент детерминации (R2) можно посчитать по формуле R2 = 1 - MSE.\n",
    "\n",
    "## Загрузка данных"
   ]
  },
  {
   "cell_type": "markdown",
   "metadata": {
    "deletable": true,
    "editable": true
   },
   "source": [
    "Загрузка библиотек"
   ]
  },
  {
   "cell_type": "code",
   "execution_count": 2,
   "metadata": {
    "collapsed": false,
    "deletable": true,
    "editable": true
   },
   "outputs": [],
   "source": [
    "import re\n",
    "import ujson\n",
    "import pickle\n",
    "import pandas as pd\n",
    "import numpy as np\n",
    "from numpy import convolve\n",
    "from bs4 import BeautifulSoup\n",
    "import scipy.sparse as sparse\n",
    "\n",
    "import datetime\n",
    "import time\n",
    "\n",
    "import warnings\n",
    "warnings.filterwarnings('ignore')\n",
    "\n",
    "from sklearn.metrics import mean_squared_error\n",
    "from sklearn.model_selection import train_test_split\n",
    "from sklearn.feature_extraction.text import CountVectorizer, TfidfTransformer, TfidfVectorizer\n",
    "from sklearn.preprocessing import scale\n",
    "from sklearn.pipeline import Pipeline\n",
    "from sklearn.grid_search import GridSearchCV\n",
    "\n",
    "from sklearn.linear_model import *\n",
    "from sklearn.svm import SVR\n",
    "\n",
    "import matplotlib.pyplot as plt\n",
    "%matplotlib inline"
   ]
  },
  {
   "cell_type": "markdown",
   "metadata": {},
   "source": [
    "Путь к данным"
   ]
  },
  {
   "cell_type": "code",
   "execution_count": 3,
   "metadata": {
    "collapsed": true,
    "deletable": true,
    "editable": true
   },
   "outputs": [],
   "source": [
    "path_to_data = '/home/data/share/habr/'"
   ]
  },
  {
   "cell_type": "code",
   "execution_count": 4,
   "metadata": {
    "collapsed": true,
    "deletable": true,
    "editable": true
   },
   "outputs": [],
   "source": [
    "howpop_test = pd.read_csv(path_to_data + 'howpop_test.csv')\n",
    "howpop_train = pd.read_csv(path_to_data + 'howpop_train.csv')\n",
    "sample_submission = pd.read_csv(path_to_data + 'sample_submission.csv')"
   ]
  },
  {
   "cell_type": "markdown",
   "metadata": {},
   "source": [
    "\"Ленивая\" загрузка файла"
   ]
  },
  {
   "cell_type": "code",
   "execution_count": 8,
   "metadata": {
    "collapsed": false,
    "deletable": true,
    "editable": true
   },
   "outputs": [],
   "source": [
    "class lazyData:\n",
    "    def __init__(self, file, key):\n",
    "        self.file = file\n",
    "        self.key = key\n",
    "              \n",
    "    def __iter__(self):\n",
    "        with open(self.file, 'r', encoding='utf8') as f:\n",
    "            data = f.readlines()\n",
    "            \n",
    "        for line in data:\n",
    "            json_row = ujson.loads(line)         \n",
    "            value = json_row[self.key]\n",
    "            yield value\n",
    "    \n",
    "    def get_keys(self):                                        # получить список полей\n",
    "        with open(self.file, 'r', encoding='utf8') as f:\n",
    "            data = f.readlines()\n",
    "            \n",
    "        for line in data:\n",
    "            json_row = ujson.loads(line)\n",
    "            break\n",
    "        return json_row.keys()"
   ]
  },
  {
   "cell_type": "markdown",
   "metadata": {
    "deletable": true,
    "editable": true
   },
   "source": [
    "Генераторы с текстами статей тестового множества"
   ]
  },
  {
   "cell_type": "code",
   "execution_count": 13,
   "metadata": {
    "collapsed": false,
    "deletable": true,
    "editable": true
   },
   "outputs": [
    {
     "name": "stdout",
     "output_type": "stream",
     "text": [
      "CPU times: user 5 µs, sys: 1 µs, total: 6 µs\n",
      "Wall time: 7.87 µs\n"
     ]
    }
   ],
   "source": [
    "%%time \n",
    "test_data = lazyData(path_to_data + 'howpop_test.jsonlines', 'content')\n",
    "train_data = lazyData(path_to_data + 'howpop_train.jsonlines', 'content')"
   ]
  },
  {
   "cell_type": "markdown",
   "metadata": {
    "deletable": true,
    "editable": true
   },
   "source": [
    "Поля json-файла с полным описанием контента"
   ]
  },
  {
   "cell_type": "code",
   "execution_count": 9,
   "metadata": {
    "collapsed": false,
    "deletable": true,
    "editable": true
   },
   "outputs": [
    {
     "data": {
      "text/plain": [
       "dict_keys(['_spider', 'polling', 'content', 'url', '_id', '_timestamp', 'meta_tags', 'quality', 'hubs', 'post_id', 'tags', 'title', 'domain', 'author', 'flow', 'link_tags', 'published', 'flags'])"
      ]
     },
     "execution_count": 9,
     "metadata": {},
     "output_type": "execute_result"
    }
   ],
   "source": [
    "test_data.get_keys()"
   ]
  },
  {
   "cell_type": "markdown",
   "metadata": {
    "deletable": true,
    "editable": true
   },
   "source": [
    "## Сериализация данных\n",
    "\"Тяжелые\" объекты будем консервировать. Например, частотные матрицы текстов обычно большого размера: не самый удачный вариант пересчитывать их после каждого запуска докуента, поэтому данные матрицы удобно сериализовать с помощью библиотеки *piсkle* и в дальнейшем загружать с диска."
   ]
  },
  {
   "cell_type": "code",
   "execution_count": 10,
   "metadata": {
    "collapsed": true,
    "deletable": true,
    "editable": true
   },
   "outputs": [],
   "source": [
    "def pickling_data(name, data):\n",
    "    out = open(name + '.pkl', 'wb')\n",
    "    pickle.dump(data, out)\n",
    "    out.close()\n",
    "    \n",
    "def load_data(name):\n",
    "    pkl_file = open(name + '.pkl', 'rb')\n",
    "    data = pickle.load(pkl_file)\n",
    "    pkl_file.close()\n",
    "    return data"
   ]
  },
  {
   "cell_type": "code",
   "execution_count": null,
   "metadata": {
    "collapsed": true,
    "deletable": true,
    "editable": true
   },
   "outputs": [],
   "source": []
  },
  {
   "cell_type": "markdown",
   "metadata": {
    "collapsed": true,
    "deletable": true,
    "editable": true
   },
   "source": [
    "## Первичный анализ данных"
   ]
  },
  {
   "cell_type": "markdown",
   "metadata": {
    "deletable": true,
    "editable": true
   },
   "source": [
    "**Пример статьи**"
   ]
  },
  {
   "cell_type": "code",
   "execution_count": 14,
   "metadata": {
    "collapsed": false,
    "deletable": true,
    "editable": true
   },
   "outputs": [
    {
     "name": "stdout",
     "output_type": "stream",
     "text": [
      "Как всегда я плетусь в самом конце WP-движения, это я о скорости реакции на анонсы релизов)<br>\r\n",
      "Уже успели выложить и две разные версии русского вордпресса 2.3.2, который только-только сошёл с конвейера (<a href=\"http://maxsite.org/wp232rus\">от Максима </a> и от <a href=\"http://mywordpress.ru/2007/12/30/wordpress-232/\">mywordpress.ru</a>), но, тем не менее, я всё же рискну быть не оригинальным и отписать ещё раз изменения со своими комментариями.<br>\r\n",
      "И так, данные взяты из <a href=\"http://westi.wordpress.com/2007/12/30/wordpress-232-in-detail/\">официального анонса</a>.<br><br><a name=\"habracut\"></a><br>\r\n",
      "Улучшена производительность, при обработке постов, перед выводом пользователю.<br><br><em>Надеюсь, я правильно понял, то, что написано в <a href=\"http://trac.wordpress.org/ticket/5325\" rel=\"nofollow\">этом тикете</a>.</em><br><em>При выводе поста, да и любой другой страницы, производится множественный вызов функции <strong>get_post</strong>, через которую работают такие функции как <strong>the_title</strong>, <strong>get_permalink</strong> и т.д. Причём, хоть данные полученные от <strong>get_posts</strong> и кэшируются, но фильтрация/отбор данных происходит после получения уже ВСЕХ данных, а не ДО, что естественно сказывается на производительности. В 2.3.2 это пофиксили.</em><br>\r\n",
      "Улучшена работа функции <strong>is_admin()</strong>. Теперь нет возможности получить доступ к «Черновикам» администраторов обычному пользователю.<br><br><em>О «дыре» с доступом к черновикам я <a href=\"http://www.cybercore.ru/wp-short-news1/\">уже писал</a>, вот теперь это уже и не дыра вовсе.</em><br>\r\n",
      "Ошибки базы данных теперь показываются только при включенном WP_DEBUG.<br><em>Ещё одна перестраховка от «шибко-хитрых-хацкеров», чтобы те не могли узнать названия таблиц вашей установки WordPress, при попытках sql-инъекций.</em><br>\r\n",
      "Во время установки WordPress, при нехватке прав у пользователя БД, будет выдаваться ошибка.<br><em>А, следовательно, и не будет создан «кривой» config.</em><br>\r\n",
      "Появился шаблон для отображения ошибок при подключении к БД.<br><em>Теперь любой пользователь может внести изменения в файл <strong>wp-content/db-error.php</strong>, который будет показан при невозможности подключиться к БД (например, если превышено количество одновременных подключений).</em><br><br>\r\n",
      "Добавлена дополнительная проверка при обработке текста, который конвертируется в ссылку.<br><em>Тут имеет место быть событие, когда вы вставляете текст с http://, а он автоматически конвертируется в аналогичную ссылку. Повышена производительность за счёт того, что теперь функция преобразования различает обычные ссылки, фтп и почтовые ящики. Стоит отметить, что, судя по всему подобные ссылки (за исключением ящиков) автоматически будут отображаться с rel=«nofollow», во всяком случае, <a href=\"http://trac.wordpress.org/changeset/6450\" rel=\"nofollow\">тут</a> всё указывает на это.</em><br>\r\n",
      "Внесены изменения в работу рассылки почты по POP3, чтобы избежать возможных <a href=\"http://ru.wikipedia.org/wiki/%D0%9C%D0%B5%D0%B6%D1%81%D0%B0%D0%B9%D1%82%D0%BE%D0%B2%D1%8B%D0%B9_%D1%81%D0%BA%D1%80%D0%B8%D0%BF%D1%82%D0%B8%D0%BD%D0%B3\" rel=\"nofollow\">XSS-атак</a>.<br><em>Ещё один баг закрыт.</em><br>\r\n",
      "Запрос пароля к записи будет выдаваться только тем пользователям, у кого есть права на изменение этой конкретной записи. Всё это относится только к сторонним-клиентским программам, работающим через XML-RPC.<br>\r\n",
      "Ещё одно изменение в XML-RPC, которое связано с отображением данных о пользователе, при вызове <strong>wp.getAuthors</strong>.<br><br><em>Данные теперь выводятся в более ограниченном формате, а так же добавлена проверка, что пользователь имеет минимальные права (редактирование постов), чтобы ограничить распространение информации, такой как имя пользователя, его логин и прочее.</em><br>\r\n",
      "И ещё целый ворох проверок в методах XML-RPC и App, для улучшения безопасности.<br>\r\n",
      "И совсем маленькое добавления при проверке путей файлов, на win-серверах.<br><hr><br>\r\n",
      "Вот и всё. Вроде бы и не много, но и не мало. Ставить, я думаю, стоит, но… только после того, как голова и руки будут действовать активно и правильно, апосля празднования НГ, а то можно дел наворотить)<br><br>\r\n",
      "Оригинал статьи <a href=\"http://www.cybercore.ru/wp-232-changes/\">«Новогодний подарок блоггерам — WordPress 2.3.2»</a>\n"
     ]
    }
   ],
   "source": [
    "for sample in train_data:\n",
    "    print(sample)\n",
    "    break"
   ]
  },
  {
   "cell_type": "markdown",
   "metadata": {
    "deletable": true,
    "editable": true
   },
   "source": [
    "Первое, что бросается в глаза -- это html-тэги, которые явно не несут смысловой нагрузки, поэтому будем очищать текст с помощью библиотеки [BeautifulSoup](http://wiki.python.su/Документации/BeautifulSoup). Также удалим стоп-слова, токенизируем текст, приведем токены к нижнему регистру и выполним лемматизацию токенов."
   ]
  },
  {
   "cell_type": "markdown",
   "metadata": {
    "deletable": true,
    "editable": true
   },
   "source": [
    "**Пример сабмита**"
   ]
  },
  {
   "cell_type": "code",
   "execution_count": 15,
   "metadata": {
    "collapsed": false,
    "deletable": true,
    "editable": true
   },
   "outputs": [
    {
     "data": {
      "text/html": [
       "<div>\n",
       "<table border=\"1\" class=\"dataframe\">\n",
       "  <thead>\n",
       "    <tr style=\"text-align: right;\">\n",
       "      <th></th>\n",
       "      <th>url</th>\n",
       "      <th>favs_lognorm</th>\n",
       "    </tr>\n",
       "  </thead>\n",
       "  <tbody>\n",
       "    <tr>\n",
       "      <th>0</th>\n",
       "      <td>https://habrahabr.ru/post/314080/</td>\n",
       "      <td>0.323588</td>\n",
       "    </tr>\n",
       "    <tr>\n",
       "      <th>1</th>\n",
       "      <td>https://habrahabr.ru/company/plesk/blog/313732/</td>\n",
       "      <td>0.560105</td>\n",
       "    </tr>\n",
       "    <tr>\n",
       "      <th>2</th>\n",
       "      <td>https://habrahabr.ru/company/etagi/blog/314000/</td>\n",
       "      <td>0.667039</td>\n",
       "    </tr>\n",
       "    <tr>\n",
       "      <th>3</th>\n",
       "      <td>https://habrahabr.ru/company/knopka/blog/314030/</td>\n",
       "      <td>0.149563</td>\n",
       "    </tr>\n",
       "    <tr>\n",
       "      <th>4</th>\n",
       "      <td>https://geektimes.ru/company/audiomania/blog/2...</td>\n",
       "      <td>0.670754</td>\n",
       "    </tr>\n",
       "  </tbody>\n",
       "</table>\n",
       "</div>"
      ],
      "text/plain": [
       "                                                 url  favs_lognorm\n",
       "0                  https://habrahabr.ru/post/314080/      0.323588\n",
       "1    https://habrahabr.ru/company/plesk/blog/313732/      0.560105\n",
       "2    https://habrahabr.ru/company/etagi/blog/314000/      0.667039\n",
       "3   https://habrahabr.ru/company/knopka/blog/314030/      0.149563\n",
       "4  https://geektimes.ru/company/audiomania/blog/2...      0.670754"
      ]
     },
     "execution_count": 15,
     "metadata": {},
     "output_type": "execute_result"
    }
   ],
   "source": [
    "sample_submission.head()"
   ]
  },
  {
   "cell_type": "markdown",
   "metadata": {
    "collapsed": true,
    "deletable": true,
    "editable": true
   },
   "source": [
    "**Инфо о статьях**  \n",
    "\n",
    "В таблицах *howpop_train* и *howpop_train* содержится краткая информация о статьях: URL, автор, название статьи, дата публикации и др."
   ]
  },
  {
   "cell_type": "code",
   "execution_count": 16,
   "metadata": {
    "collapsed": false,
    "deletable": true,
    "editable": true
   },
   "outputs": [
    {
     "name": "stdout",
     "output_type": "stream",
     "text": [
      "<class 'pandas.core.frame.DataFrame'>\n",
      "RangeIndex: 134137 entries, 0 to 134136\n",
      "Data columns (total 17 columns):\n",
      "url                 134137 non-null object\n",
      "domain              134137 non-null object\n",
      "post_id             134137 non-null int64\n",
      "published           134137 non-null object\n",
      "author              97657 non-null object\n",
      "flow                97048 non-null object\n",
      "polling             134137 non-null bool\n",
      "content_len         134137 non-null int64\n",
      "title               134137 non-null object\n",
      "comments            134137 non-null int64\n",
      "favs                134137 non-null int64\n",
      "views               134137 non-null int64\n",
      "votes_plus          133566 non-null float64\n",
      "votes_minus         133566 non-null float64\n",
      "views_lognorm       134137 non-null float64\n",
      "favs_lognorm        134137 non-null float64\n",
      "comments_lognorm    134137 non-null float64\n",
      "dtypes: bool(1), float64(5), int64(5), object(6)\n",
      "memory usage: 16.5+ MB\n"
     ]
    }
   ],
   "source": [
    "howpop_train.info()"
   ]
  },
  {
   "cell_type": "code",
   "execution_count": 17,
   "metadata": {
    "collapsed": false,
    "deletable": true,
    "editable": true
   },
   "outputs": [
    {
     "name": "stdout",
     "output_type": "stream",
     "text": [
      "<class 'pandas.core.frame.DataFrame'>\n",
      "RangeIndex: 3990 entries, 0 to 3989\n",
      "Data columns (total 9 columns):\n",
      "url            3990 non-null object\n",
      "domain         3990 non-null object\n",
      "post_id        3990 non-null int64\n",
      "published      3990 non-null object\n",
      "author         2386 non-null object\n",
      "flow           2668 non-null object\n",
      "polling        3990 non-null bool\n",
      "content_len    3990 non-null int64\n",
      "title          3990 non-null object\n",
      "dtypes: bool(1), int64(2), object(6)\n",
      "memory usage: 253.3+ KB\n"
     ]
    }
   ],
   "source": [
    "howpop_test.info()"
   ]
  },
  {
   "cell_type": "markdown",
   "metadata": {
    "collapsed": true,
    "deletable": true,
    "editable": true
   },
   "source": [
    "И в обучающем и в тестовом наборе есть пропущенные значения.  \n",
    "В howpop_train содержится 17 столбцов, а в howpop_test всего 9."
   ]
  },
  {
   "cell_type": "code",
   "execution_count": 18,
   "metadata": {
    "collapsed": false,
    "deletable": true,
    "editable": true
   },
   "outputs": [
    {
     "data": {
      "text/html": [
       "<div>\n",
       "<table border=\"1\" class=\"dataframe\">\n",
       "  <thead>\n",
       "    <tr style=\"text-align: right;\">\n",
       "      <th></th>\n",
       "      <th>url</th>\n",
       "      <th>domain</th>\n",
       "      <th>post_id</th>\n",
       "      <th>published</th>\n",
       "      <th>author</th>\n",
       "      <th>flow</th>\n",
       "      <th>polling</th>\n",
       "      <th>content_len</th>\n",
       "      <th>title</th>\n",
       "      <th>comments</th>\n",
       "      <th>favs</th>\n",
       "      <th>views</th>\n",
       "      <th>votes_plus</th>\n",
       "      <th>votes_minus</th>\n",
       "      <th>views_lognorm</th>\n",
       "      <th>favs_lognorm</th>\n",
       "      <th>comments_lognorm</th>\n",
       "    </tr>\n",
       "  </thead>\n",
       "  <tbody>\n",
       "    <tr>\n",
       "      <th>0</th>\n",
       "      <td>https://habrahabr.ru/post/18284/</td>\n",
       "      <td>habrahabr.ru</td>\n",
       "      <td>18284</td>\n",
       "      <td>2008-01-01 18:19:00</td>\n",
       "      <td>@Tapac</td>\n",
       "      <td>develop</td>\n",
       "      <td>False</td>\n",
       "      <td>4305</td>\n",
       "      <td>Новогодний подарок блоггерам — WordPress 2.3.2</td>\n",
       "      <td>0</td>\n",
       "      <td>0</td>\n",
       "      <td>236</td>\n",
       "      <td>0.0</td>\n",
       "      <td>0.0</td>\n",
       "      <td>-0.792687</td>\n",
       "      <td>-1.344075</td>\n",
       "      <td>-2.436871</td>\n",
       "    </tr>\n",
       "    <tr>\n",
       "      <th>1</th>\n",
       "      <td>https://habrahabr.ru/post/18285/</td>\n",
       "      <td>habrahabr.ru</td>\n",
       "      <td>18285</td>\n",
       "      <td>2008-01-01 18:30:00</td>\n",
       "      <td>@DezmASter</td>\n",
       "      <td>design</td>\n",
       "      <td>False</td>\n",
       "      <td>7344</td>\n",
       "      <td>Сумасшедшие яйца, или сервис для отслеживания ...</td>\n",
       "      <td>1</td>\n",
       "      <td>1</td>\n",
       "      <td>353</td>\n",
       "      <td>1.0</td>\n",
       "      <td>0.0</td>\n",
       "      <td>-0.485214</td>\n",
       "      <td>-0.831946</td>\n",
       "      <td>-1.873193</td>\n",
       "    </tr>\n",
       "    <tr>\n",
       "      <th>2</th>\n",
       "      <td>https://habrahabr.ru/post/18286/</td>\n",
       "      <td>habrahabr.ru</td>\n",
       "      <td>18286</td>\n",
       "      <td>2008-01-01 18:34:00</td>\n",
       "      <td>@DezmASter</td>\n",
       "      <td>design</td>\n",
       "      <td>False</td>\n",
       "      <td>8431</td>\n",
       "      <td>Сумасшедшие яйца, или сервис для отслеживания ...</td>\n",
       "      <td>47</td>\n",
       "      <td>72</td>\n",
       "      <td>1200</td>\n",
       "      <td>45.0</td>\n",
       "      <td>5.0</td>\n",
       "      <td>0.446090</td>\n",
       "      <td>1.794023</td>\n",
       "      <td>0.574656</td>\n",
       "    </tr>\n",
       "    <tr>\n",
       "      <th>3</th>\n",
       "      <td>https://habrahabr.ru/post/18291/</td>\n",
       "      <td>habrahabr.ru</td>\n",
       "      <td>18291</td>\n",
       "      <td>2008-01-02 01:32:00</td>\n",
       "      <td>@Taoorus</td>\n",
       "      <td>design</td>\n",
       "      <td>False</td>\n",
       "      <td>5662</td>\n",
       "      <td>Сглаживание шрифтов, и субпиксельная отрисовка</td>\n",
       "      <td>102</td>\n",
       "      <td>36</td>\n",
       "      <td>5700</td>\n",
       "      <td>72.0</td>\n",
       "      <td>3.0</td>\n",
       "      <td>1.627469</td>\n",
       "      <td>1.300050</td>\n",
       "      <td>1.167375</td>\n",
       "    </tr>\n",
       "    <tr>\n",
       "      <th>4</th>\n",
       "      <td>https://geektimes.ru/post/18294/</td>\n",
       "      <td>geektimes.ru</td>\n",
       "      <td>18294</td>\n",
       "      <td>2008-01-02 14:34:00</td>\n",
       "      <td>@dennydo</td>\n",
       "      <td>NaN</td>\n",
       "      <td>False</td>\n",
       "      <td>3706</td>\n",
       "      <td>Почему мне не нравится iPhone</td>\n",
       "      <td>230</td>\n",
       "      <td>6</td>\n",
       "      <td>1400</td>\n",
       "      <td>73.0</td>\n",
       "      <td>15.0</td>\n",
       "      <td>1.362397</td>\n",
       "      <td>0.961094</td>\n",
       "      <td>2.020356</td>\n",
       "    </tr>\n",
       "  </tbody>\n",
       "</table>\n",
       "</div>"
      ],
      "text/plain": [
       "                                url        domain  post_id  \\\n",
       "0  https://habrahabr.ru/post/18284/  habrahabr.ru    18284   \n",
       "1  https://habrahabr.ru/post/18285/  habrahabr.ru    18285   \n",
       "2  https://habrahabr.ru/post/18286/  habrahabr.ru    18286   \n",
       "3  https://habrahabr.ru/post/18291/  habrahabr.ru    18291   \n",
       "4  https://geektimes.ru/post/18294/  geektimes.ru    18294   \n",
       "\n",
       "             published      author     flow polling  content_len  \\\n",
       "0  2008-01-01 18:19:00      @Tapac  develop   False         4305   \n",
       "1  2008-01-01 18:30:00  @DezmASter   design   False         7344   \n",
       "2  2008-01-01 18:34:00  @DezmASter   design   False         8431   \n",
       "3  2008-01-02 01:32:00    @Taoorus   design   False         5662   \n",
       "4  2008-01-02 14:34:00    @dennydo      NaN   False         3706   \n",
       "\n",
       "                                               title  comments  favs  views  \\\n",
       "0     Новогодний подарок блоггерам — WordPress 2.3.2         0     0    236   \n",
       "1  Сумасшедшие яйца, или сервис для отслеживания ...         1     1    353   \n",
       "2  Сумасшедшие яйца, или сервис для отслеживания ...        47    72   1200   \n",
       "3     Сглаживание шрифтов, и субпиксельная отрисовка       102    36   5700   \n",
       "4                      Почему мне не нравится iPhone       230     6   1400   \n",
       "\n",
       "   votes_plus  votes_minus  views_lognorm  favs_lognorm  comments_lognorm  \n",
       "0         0.0          0.0      -0.792687     -1.344075         -2.436871  \n",
       "1         1.0          0.0      -0.485214     -0.831946         -1.873193  \n",
       "2        45.0          5.0       0.446090      1.794023          0.574656  \n",
       "3        72.0          3.0       1.627469      1.300050          1.167375  \n",
       "4        73.0         15.0       1.362397      0.961094          2.020356  "
      ]
     },
     "execution_count": 18,
     "metadata": {},
     "output_type": "execute_result"
    }
   ],
   "source": [
    "howpop_train.head()"
   ]
  },
  {
   "cell_type": "markdown",
   "metadata": {
    "deletable": true,
    "editable": true
   },
   "source": [
    "Все записи расположены в хронологическом порядке -- т.е. данные по сути являются многомерным временным рядом."
   ]
  },
  {
   "cell_type": "code",
   "execution_count": 19,
   "metadata": {
    "collapsed": false,
    "deletable": true,
    "editable": true
   },
   "outputs": [
    {
     "data": {
      "image/png": "[encoded data removed]",
      "text/plain": [
       "<matplotlib.figure.Figure at 0x7f2452f392e8>"
      ]
     },
     "metadata": {},
     "output_type": "display_data"
    }
   ],
   "source": [
    "howpop_train['published'].apply(lambda ts: pd.to_datetime(ts).value).plot();"
   ]
  },
  {
   "cell_type": "markdown",
   "metadata": {
    "deletable": true,
    "editable": true
   },
   "source": [
    "В качестве идентификатора статьи будем использовать поле url."
   ]
  },
  {
   "cell_type": "code",
   "execution_count": 20,
   "metadata": {
    "collapsed": false,
    "deletable": true,
    "editable": true
   },
   "outputs": [
    {
     "data": {
      "text/plain": [
       "134137"
      ]
     },
     "execution_count": 20,
     "metadata": {},
     "output_type": "execute_result"
    }
   ],
   "source": [
    "howpop_train.url.nunique()"
   ]
  },
  {
   "cell_type": "markdown",
   "metadata": {
    "deletable": true,
    "editable": true
   },
   "source": [
    "Проверим соответствуют ли строка в наборе с контентом записи из таблицы с краткой информацией."
   ]
  },
  {
   "cell_type": "code",
   "execution_count": 21,
   "metadata": {
    "collapsed": false,
    "deletable": true,
    "editable": true
   },
   "outputs": [],
   "source": [
    "id_train = lazyData(path_to_data + 'howpop_train.jsonlines', 'url')\n",
    "id_test = lazyData(path_to_data + 'howpop_test.jsonlines', 'url')"
   ]
  },
  {
   "cell_type": "code",
   "execution_count": 22,
   "metadata": {
    "collapsed": false,
    "deletable": true,
    "editable": true
   },
   "outputs": [
    {
     "name": "stdout",
     "output_type": "stream",
     "text": [
      "Если выше нет записей, то всё хорошо!\n"
     ]
    }
   ],
   "source": [
    "for i, Id in enumerate(id_train):\n",
    "    if Id != howpop_train.iloc[i]['url']:\n",
    "        print(Id)\n",
    "print(\"Если выше нет записей, то всё хорошо!\")"
   ]
  },
  {
   "cell_type": "code",
   "execution_count": 23,
   "metadata": {
    "collapsed": false,
    "deletable": true,
    "editable": true
   },
   "outputs": [
    {
     "name": "stdout",
     "output_type": "stream",
     "text": [
      "Если выше нет записей, то всё хорошо!\n"
     ]
    }
   ],
   "source": [
    "for i, Id in enumerate(id_test):\n",
    "    if Id != howpop_test.iloc[i]['url']:\n",
    "        print(Id)\n",
    "print(\"Если выше нет записей, то всё хорошо!\")"
   ]
  },
  {
   "cell_type": "markdown",
   "metadata": {
    "deletable": true,
    "editable": true
   },
   "source": [
    "---\n",
    "### Количественные переменные"
   ]
  },
  {
   "cell_type": "markdown",
   "metadata": {
    "collapsed": true,
    "deletable": true,
    "editable": true
   },
   "source": [
    "**Целевая переменная -- favs_lognorm**\n",
    "\n",
    "По странному стечению обстоятельств **в тестовый набор попал вектор целевой переменной(!)**  \n",
    "Будем работать только с признаками, которые попали в howpop\\_test и непосредственно с текстом статьи."
   ]
  },
  {
   "cell_type": "code",
   "execution_count": 24,
   "metadata": {
    "collapsed": true,
    "deletable": true,
    "editable": true
   },
   "outputs": [],
   "source": [
    "target = howpop_train.favs_lognorm"
   ]
  },
  {
   "cell_type": "code",
   "execution_count": 25,
   "metadata": {
    "collapsed": false,
    "deletable": true,
    "editable": true
   },
   "outputs": [
    {
     "data": {
      "image/png": "[encoded data removed]",
      "text/plain": [
       "<matplotlib.figure.Figure at 0x7f2452dcc3c8>"
      ]
     },
     "metadata": {},
     "output_type": "display_data"
    }
   ],
   "source": [
    "quality_test = lazyData(path_to_data + 'howpop_test.jsonlines', 'quality')\n",
    "quality_train = lazyData(path_to_data + 'howpop_train.jsonlines', 'quality')\n",
    "\n",
    "favs_lognorm_test = []\n",
    "for q in quality_test:\n",
    "    favs_lognorm = q['favs_lognorm']\n",
    "    favs_lognorm_test.append(favs_lognorm)\n",
    "\n",
    "plt.figure(figsize=(20,5))\n",
    "plt.hist(favs_lognorm_test, bins=100, color='g', alpha=0.8, normed=True)\n",
    "plt.hist(howpop_train.favs_lognorm, bins=100, color='b', alpha=0.5, normed=True)\n",
    "plt.title(\"Распределения целевой переменной в наборах\")\n",
    "plt.show()"
   ]
  },
  {
   "cell_type": "markdown",
   "metadata": {
    "collapsed": true,
    "deletable": true,
    "editable": true
   },
   "source": [
    "**Распределение \"звездочек\" в train**"
   ]
  },
  {
   "cell_type": "code",
   "execution_count": 26,
   "metadata": {
    "collapsed": false,
    "deletable": true,
    "editable": true
   },
   "outputs": [
    {
     "data": {
      "image/png": "[encoded data removed]",
      "text/plain": [
       "<matplotlib.figure.Figure at 0x7f2452e37fd0>"
      ]
     },
     "metadata": {},
     "output_type": "display_data"
    }
   ],
   "source": [
    "plt.figure(figsize=(20,5))\n",
    "plt.subplot(1,2,1)\n",
    "plt.hist(howpop_train.favs + 1, bins=100, alpha=0.7)\n",
    "plt.title(\"Количество 'звезд' у статьи\")\n",
    "\n",
    "plt.subplot(1,2,2)\n",
    "plt.hist(np.log(howpop_train.favs + 1), bins=100, alpha=0.7, color='r')\n",
    "plt.title(\"Ln (Количество 'звезд' у статьи)\")\n",
    "plt.show()"
   ]
  },
  {
   "cell_type": "code",
   "execution_count": 27,
   "metadata": {
    "collapsed": false,
    "deletable": true,
    "editable": true
   },
   "outputs": [
    {
     "name": "stdout",
     "output_type": "stream",
     "text": [
      "Третий квартиль: 27.00\n"
     ]
    }
   ],
   "source": [
    "print(\"Третий квартиль: %.2f\" % np.percentile(howpop_train.favs.value_counts(), 75))"
   ]
  },
  {
   "cell_type": "markdown",
   "metadata": {
    "deletable": true,
    "editable": true
   },
   "source": [
    "Видим, что бOльшая доля статей получает немного \"звёзд\" (до 27)"
   ]
  },
  {
   "cell_type": "markdown",
   "metadata": {
    "deletable": true,
    "editable": true
   },
   "source": [
    "**content_len**  \n",
    "\n",
    "Длина статьи"
   ]
  },
  {
   "cell_type": "code",
   "execution_count": 28,
   "metadata": {
    "collapsed": false,
    "deletable": true,
    "editable": true
   },
   "outputs": [
    {
     "data": {
      "image/png": "[encoded data removed]",
      "text/plain": [
       "<matplotlib.figure.Figure at 0x7f2451441470>"
      ]
     },
     "metadata": {},
     "output_type": "display_data"
    }
   ],
   "source": [
    "plt.figure(figsize=(20,5))\n",
    "cont_len = howpop_train.content_len\n",
    "log_cont_len = np.log(cont_len)\n",
    "\n",
    "plt.subplot(1,2,1)\n",
    "plt.title(\"Размер статьи\")\n",
    "plt.hist(cont_len, bins=200)\n",
    "\n",
    "plt.subplot(1,2,2)\n",
    "plt.title(\"Ln(Размер статьи)\")\n",
    "plt.hist(log_cont_len, bins=200, alpha=0.8, color='r')\n",
    "plt.show()"
   ]
  },
  {
   "cell_type": "code",
   "execution_count": 29,
   "metadata": {
    "collapsed": false,
    "deletable": true,
    "editable": true
   },
   "outputs": [
    {
     "name": "stdout",
     "output_type": "stream",
     "text": [
      "Корреляция размера статьи с целевой переменной: 0.356\n",
      "Корреляция сглаженного размера статьи с целевой переменной: 0.411\n"
     ]
    }
   ],
   "source": [
    "print(\"Корреляция размера статьи с целевой переменной: %.3f\" \\\n",
    "      % np.corrcoef(cont_len, howpop_train.favs_lognorm)[0][1])\n",
    "print(\"Корреляция сглаженного размера статьи с целевой переменной: %.3f\" \\\n",
    "      % np.corrcoef(log_cont_len, howpop_train.favs_lognorm)[0][1])"
   ]
  },
  {
   "cell_type": "code",
   "execution_count": 30,
   "metadata": {
    "collapsed": true,
    "deletable": true,
    "editable": true
   },
   "outputs": [],
   "source": [
    "howpop_train['log_content_len'] = log_cont_len\n",
    "howpop_test['log_content_len'] = np.log(howpop_test.content_len)"
   ]
  },
  {
   "cell_type": "markdown",
   "metadata": {
    "deletable": true,
    "editable": true
   },
   "source": [
    "Сглаженный логарифмом признак сильнее коррелирует с целевой переменной, поэтому добавляем его в набор данных"
   ]
  },
  {
   "cell_type": "markdown",
   "metadata": {
    "deletable": true,
    "editable": true
   },
   "source": [
    "**polling**  \n",
    "\n",
    "Посмотрим как ниличие опроса влияет на популярность статьи"
   ]
  },
  {
   "cell_type": "code",
   "execution_count": 31,
   "metadata": {
    "collapsed": false,
    "deletable": true,
    "editable": true
   },
   "outputs": [
    {
     "data": {
      "image/png": "[encoded data removed]",
      "text/plain": [
       "<matplotlib.figure.Figure at 0x7f244bdee898>"
      ]
     },
     "metadata": {},
     "output_type": "display_data"
    }
   ],
   "source": [
    "plt.figure(figsize=(15,5))\n",
    "\n",
    "plt.subplot(1,2,1)\n",
    "howpop_train.polling.value_counts().plot(kind='bar', grid=True)\n",
    "plt.title(\"Опрос\")\n",
    "\n",
    "plt.subplot(1,2,2)\n",
    "howpop_train.groupby(by='polling').median().favs_lognorm.plot(kind='bar', grid=True, color='g', alpha=0.7)\n",
    "plt.title(\"Медиана 'популярности'\")\n",
    "plt.show()"
   ]
  },
  {
   "cell_type": "code",
   "execution_count": 32,
   "metadata": {
    "collapsed": false,
    "deletable": true,
    "editable": true
   },
   "outputs": [
    {
     "name": "stdout",
     "output_type": "stream",
     "text": [
      "Корреляция с целевой переменной: -0.036\n"
     ]
    }
   ],
   "source": [
    "print(\"Корреляция с целевой переменной: %.3f\" % np.corrcoef(howpop_train['polling'], howpop_train.favs_lognorm)[0][1])"
   ]
  },
  {
   "cell_type": "markdown",
   "metadata": {
    "deletable": true,
    "editable": true
   },
   "source": [
    "---\n",
    "### Категориальные и временнЫе характеристики"
   ]
  },
  {
   "cell_type": "markdown",
   "metadata": {
    "deletable": true,
    "editable": true
   },
   "source": [
    "**domain**"
   ]
  },
  {
   "cell_type": "code",
   "execution_count": 33,
   "metadata": {
    "collapsed": false,
    "deletable": true,
    "editable": true
   },
   "outputs": [
    {
     "data": {
      "text/plain": [
       "habrahabr.ru    2668\n",
       "geektimes.ru    1322\n",
       "Name: domain, dtype: int64"
      ]
     },
     "execution_count": 33,
     "metadata": {},
     "output_type": "execute_result"
    }
   ],
   "source": [
    "howpop_test.domain.value_counts()"
   ]
  },
  {
   "cell_type": "code",
   "execution_count": 34,
   "metadata": {
    "collapsed": false,
    "deletable": true,
    "editable": true
   },
   "outputs": [
    {
     "data": {
      "text/plain": [
       "habrahabr.ru    97048\n",
       "geektimes.ru    37089\n",
       "Name: domain, dtype: int64"
      ]
     },
     "execution_count": 34,
     "metadata": {},
     "output_type": "execute_result"
    }
   ],
   "source": [
    "howpop_train.domain.value_counts()"
   ]
  },
  {
   "cell_type": "markdown",
   "metadata": {
    "deletable": true,
    "editable": true
   },
   "source": [
    "Посмотрим где в среднем выше популярность статьи"
   ]
  },
  {
   "cell_type": "code",
   "execution_count": 35,
   "metadata": {
    "collapsed": false,
    "deletable": true,
    "editable": true
   },
   "outputs": [
    {
     "data": {
      "image/png": "[encoded data removed]",
      "text/plain": [
       "<matplotlib.figure.Figure at 0x7f244c180d30>"
      ]
     },
     "metadata": {},
     "output_type": "display_data"
    }
   ],
   "source": [
    "habr = howpop_train[howpop_train.domain == 'habrahabr.ru']\n",
    "geek = howpop_train[howpop_train.domain == 'geektimes.ru']\n",
    "\n",
    "plt.figure(figsize=(15,5))\n",
    "plt.subplot(1,2,1)\n",
    "plt.hist(habr.favs_lognorm, bins=100, alpha=0.7)\n",
    "plt.title(\"Habrahabr\")\n",
    "\n",
    "plt.subplot(1,2,2)\n",
    "plt.hist(geek.favs_lognorm, bins=100, alpha=0.7, color='r')\n",
    "plt.title(\"Geektimes\")\n",
    "plt.show()"
   ]
  },
  {
   "cell_type": "code",
   "execution_count": 36,
   "metadata": {
    "collapsed": false,
    "deletable": true,
    "editable": true
   },
   "outputs": [
    {
     "name": "stdout",
     "output_type": "stream",
     "text": [
      "Habrahabr: 0.047\n",
      "Geektimes: -0.090\n"
     ]
    }
   ],
   "source": [
    "print(\"Habrahabr: %.3f\" % np.median(habr.favs_lognorm))\n",
    "print(\"Geektimes: %.3f\" % np.median(geek.favs_lognorm))"
   ]
  },
  {
   "cell_type": "code",
   "execution_count": 37,
   "metadata": {
    "collapsed": false,
    "deletable": true,
    "editable": true
   },
   "outputs": [
    {
     "name": "stdout",
     "output_type": "stream",
     "text": [
      "Корреляция с целевой переменной: 0.001\n"
     ]
    }
   ],
   "source": [
    "print(\"Корреляция с целевой переменной: %.3f\" % np.corrcoef(pd.get_dummies(howpop_train.domain)['geektimes.ru'], target)[0][1])"
   ]
  },
  {
   "cell_type": "code",
   "execution_count": 38,
   "metadata": {
    "collapsed": true,
    "deletable": true,
    "editable": true
   },
   "outputs": [],
   "source": [
    "howpop_train['geektimes'] = pd.get_dummies(howpop_train.domain)['geektimes.ru']\n",
    "howpop_test['geektimes'] = pd.get_dummies(howpop_test.domain)['geektimes.ru']"
   ]
  },
  {
   "cell_type": "markdown",
   "metadata": {
    "collapsed": true,
    "deletable": true,
    "editable": true
   },
   "source": [
    "**flow**"
   ]
  },
  {
   "cell_type": "code",
   "execution_count": 39,
   "metadata": {
    "collapsed": false,
    "deletable": true,
    "editable": true
   },
   "outputs": [
    {
     "data": {
      "image/png": "[encoded data removed]",
      "text/plain": [
       "<matplotlib.figure.Figure at 0x7f2452dcc080>"
      ]
     },
     "metadata": {},
     "output_type": "display_data"
    }
   ],
   "source": [
    "howpop_train.flow.fillna('unknow', inplace=True)\n",
    "howpop_test.flow.fillna('unknow', inplace=True)\n",
    "\n",
    "plt.figure(figsize=(15,5))\n",
    "\n",
    "plt.subplot(1,2,1)\n",
    "howpop_train.flow.value_counts().plot(kind='bar', grid=True)\n",
    "plt.title(\"flow\")\n",
    "\n",
    "plt.subplot(1,2,2)\n",
    "howpop_train.groupby(by='flow').median().favs_lognorm.plot(kind='bar', grid=True, color='g', alpha=0.7)\n",
    "plt.title(\"Медиана 'популярности'\")\n",
    "plt.show()"
   ]
  },
  {
   "cell_type": "markdown",
   "metadata": {
    "deletable": true,
    "editable": true
   },
   "source": [
    "### Дата публикации\n",
    "**published**\n",
    "\n",
    "Преобразование даты публикации в Timestamp"
   ]
  },
  {
   "cell_type": "code",
   "execution_count": 40,
   "metadata": {
    "collapsed": true,
    "deletable": true,
    "editable": true
   },
   "outputs": [],
   "source": [
    "howpop_train['published'] = pd.to_datetime(howpop_train['published'])\n",
    "howpop_test['published'] = pd.to_datetime(howpop_test['published'])\n",
    "\n",
    "published = howpop_train['published']"
   ]
  },
  {
   "cell_type": "code",
   "execution_count": 41,
   "metadata": {
    "collapsed": true,
    "deletable": true,
    "editable": true
   },
   "outputs": [],
   "source": [
    "# скользящее среднее\n",
    "def movingaverage (values, window):\n",
    "    weights = np.repeat(1.0, window) / window\n",
    "    sma = np.convolve(values, weights, 'valid')\n",
    "    return sma"
   ]
  },
  {
   "cell_type": "code",
   "execution_count": 42,
   "metadata": {
    "collapsed": false,
    "deletable": true,
    "editable": true
   },
   "outputs": [
    {
     "data": {
      "image/png": "[encoded data removed]",
      "text/plain": [
       "<matplotlib.figure.Figure at 0x7f244c02fc88>"
      ]
     },
     "metadata": {},
     "output_type": "display_data"
    }
   ],
   "source": [
    "plt.figure(figsize=(20,5))\n",
    "plt.plot(movingaverage(howpop_train.favs_lognorm, 100))\n",
    "plt.show()"
   ]
  },
  {
   "cell_type": "markdown",
   "metadata": {
    "deletable": true,
    "editable": true
   },
   "source": [
    "**Группировка по дням месяца**"
   ]
  },
  {
   "cell_type": "code",
   "execution_count": 43,
   "metadata": {
    "collapsed": false,
    "deletable": true,
    "editable": true
   },
   "outputs": [
    {
     "data": {
      "image/png": "[encoded data removed]",
      "text/plain": [
       "<matplotlib.figure.Figure at 0x7f248db23a20>"
      ]
     },
     "metadata": {},
     "output_type": "display_data"
    }
   ],
   "source": [
    "howpop_train['published_day'] = published.apply(lambda x: x.day)\n",
    "\n",
    "plt.figure(figsize=(15,5))\n",
    "howpop_train.groupby(by='published_day').median().favs_lognorm.plot(kind='bar', grid=True)\n",
    "plt.title(\"Популярность статьи в разные дни месяца\")\n",
    "plt.show()"
   ]
  },
  {
   "cell_type": "code",
   "execution_count": 44,
   "metadata": {
    "collapsed": false,
    "deletable": true,
    "editable": true
   },
   "outputs": [
    {
     "name": "stdout",
     "output_type": "stream",
     "text": [
      "Корреляция с целевой переменной: -0.011\n"
     ]
    }
   ],
   "source": [
    "print(\"Корреляция с целевой переменной: %.3f\" % np.corrcoef(howpop_train['published_day'], howpop_train.favs_lognorm)[0][1])"
   ]
  },
  {
   "cell_type": "code",
   "execution_count": 45,
   "metadata": {
    "collapsed": true,
    "deletable": true,
    "editable": true
   },
   "outputs": [],
   "source": [
    "published_test = pd.to_datetime(howpop_test['published'])\n",
    "howpop_test['published_day'] = published_test.apply(lambda x: x.day)"
   ]
  },
  {
   "cell_type": "markdown",
   "metadata": {
    "deletable": true,
    "editable": true
   },
   "source": [
    "**Группировка по дням недели**"
   ]
  },
  {
   "cell_type": "code",
   "execution_count": 46,
   "metadata": {
    "collapsed": false,
    "deletable": true,
    "editable": true
   },
   "outputs": [
    {
     "data": {
      "image/png": "[encoded data removed]",
      "text/plain": [
       "<matplotlib.figure.Figure at 0x7f248db23a20>"
      ]
     },
     "metadata": {},
     "output_type": "display_data"
    }
   ],
   "source": [
    "howpop_train['published_weekday'] = published.apply(lambda x: x.weekday())\n",
    "howpop_test['published_weekday'] = published_test.apply(lambda x: x.weekday())\n",
    "\n",
    "plt.figure(figsize=(10,5))\n",
    "howpop_train.groupby(by='published_weekday').median().favs_lognorm.plot(kind='bar', grid=True, color='grey')\n",
    "plt.title(\"Популярность статьи в разные дни недели\")\n",
    "plt.show()"
   ]
  },
  {
   "cell_type": "code",
   "execution_count": 47,
   "metadata": {
    "collapsed": false,
    "deletable": true,
    "editable": true
   },
   "outputs": [
    {
     "name": "stdout",
     "output_type": "stream",
     "text": [
      "Корреляция с целевой переменной: 0.034\n"
     ]
    }
   ],
   "source": [
    "print(\"Корреляция с целевой переменной: %.3f\" % np.corrcoef(howpop_train['published_weekday'], howpop_train.favs_lognorm)[0][1])"
   ]
  },
  {
   "cell_type": "markdown",
   "metadata": {
    "deletable": true,
    "editable": true
   },
   "source": [
    "**Группировка по часам**"
   ]
  },
  {
   "cell_type": "code",
   "execution_count": 48,
   "metadata": {
    "collapsed": false,
    "deletable": true,
    "editable": true
   },
   "outputs": [
    {
     "data": {
      "image/png": "[encoded data removed]",
      "text/plain": [
       "<matplotlib.figure.Figure at 0x7f2489e99198>"
      ]
     },
     "metadata": {},
     "output_type": "display_data"
    },
    {
     "name": "stdout",
     "output_type": "stream",
     "text": [
      "Корреляция с целевой переменной: -0.022\n"
     ]
    }
   ],
   "source": [
    "howpop_train['published_hour'] = published.apply(lambda x: x.hour)\n",
    "\n",
    "plt.figure(figsize=(15,5))\n",
    "howpop_train.groupby(by='published_hour').median().favs_lognorm.plot(kind='bar', grid=True, color='g', alpha=0.7)\n",
    "plt.title(\"Популярность статьи в разное время суток\")\n",
    "plt.show()\n",
    "\n",
    "print(\"Корреляция с целевой переменной: %.3f\" % np.corrcoef(howpop_train['published_hour'], howpop_train.favs_lognorm)[0][1])\n",
    "\n",
    "published_test = pd.to_datetime(howpop_test['published'])\n",
    "howpop_test['published_hour'] = published_test.apply(lambda x: x.hour)"
   ]
  },
  {
   "cell_type": "markdown",
   "metadata": {
    "deletable": true,
    "editable": true
   },
   "source": [
    "**Популярность статей по годам**"
   ]
  },
  {
   "cell_type": "code",
   "execution_count": 49,
   "metadata": {
    "collapsed": false,
    "deletable": true,
    "editable": true
   },
   "outputs": [
    {
     "data": {
      "image/png": "[encoded data removed]",
      "text/plain": [
       "<matplotlib.figure.Figure at 0x7f246bcf09e8>"
      ]
     },
     "metadata": {},
     "output_type": "display_data"
    }
   ],
   "source": [
    "howpop_train['published_year'] = published.apply(lambda x: x.year)\n",
    "\n",
    "plt.figure(figsize=(10,5))\n",
    "howpop_train.groupby(by='published_year').median().favs_lognorm.plot(kind='bar', grid=True, color='r', alpha=0.8)\n",
    "plt.title(\"Популярность статей по годам\")\n",
    "plt.show()"
   ]
  },
  {
   "cell_type": "code",
   "execution_count": 50,
   "metadata": {
    "collapsed": false,
    "deletable": true,
    "editable": true
   },
   "outputs": [
    {
     "data": {
      "image/png": "[encoded data removed]",
      "text/plain": [
       "<matplotlib.figure.Figure at 0x7f2451344048>"
      ]
     },
     "metadata": {},
     "output_type": "display_data"
    }
   ],
   "source": [
    "plt.figure(figsize=(10,5))\n",
    "howpop_train['published_year'].value_counts().plot(kind='bar', alpha=0.7, grid=True)\n",
    "plt.title(\"Количество публикаций за год\")\n",
    "plt.show()"
   ]
  },
  {
   "cell_type": "markdown",
   "metadata": {
    "deletable": true,
    "editable": true
   },
   "source": [
    "**Количество опубликованных статей за сутки**"
   ]
  },
  {
   "cell_type": "code",
   "execution_count": 51,
   "metadata": {
    "collapsed": false,
    "deletable": true,
    "editable": true
   },
   "outputs": [
    {
     "data": {
      "image/png": "[encoded data removed]",
      "text/plain": [
       "<matplotlib.figure.Figure at 0x7f2452abfbe0>"
      ]
     },
     "metadata": {},
     "output_type": "display_data"
    }
   ],
   "source": [
    "# дата публикации в формате год-месяц-день\n",
    "\n",
    "howpop_train['published_date'] = published.apply(lambda x: x.date())\n",
    "howpop_test['published_date'] = published.apply(lambda x: x.date())\n",
    "\n",
    "howpop_train['pub_date_count'] = howpop_train['published_date'].map(howpop_train.groupby(by='published_date').size())\n",
    "howpop_test['pub_date_count'] = howpop_test['published_date'].map(howpop_test.groupby(by='published_date').size())\n",
    "\n",
    "\n",
    "plt.figure(figsize=(20,10))\n",
    "\n",
    "plt.subplot(2,1,1)\n",
    "data = howpop_train[howpop_train['domain'] == 'geektimes.ru']\n",
    "plt.plot(data['published_date'][:-90], movingaverage (data['pub_date_count'], 91), color='r')\n",
    "plt.title(\"Количество опубликованных статей за сутки на Geektimes.ru\")\n",
    "\n",
    "plt.subplot(2,1,2)\n",
    "data = howpop_train[howpop_train['domain'] != 'geektimes.ru']\n",
    "plt.plot(data['published_date'][:-90], movingaverage (data['pub_date_count'], 91), color='b')\n",
    "plt.title(\"Количество опубликованных статей за сутки на Habrahabr.ru\")\n",
    "plt.show()"
   ]
  },
  {
   "cell_type": "code",
   "execution_count": 52,
   "metadata": {
    "collapsed": true,
    "deletable": true,
    "editable": true
   },
   "outputs": [],
   "source": [
    "howpop_train['pub_date_count_log'] = np.log(howpop_train['pub_date_count'])\n",
    "howpop_test['pub_date_count_log'] = np.log(howpop_test['pub_date_count'])"
   ]
  },
  {
   "cell_type": "code",
   "execution_count": 53,
   "metadata": {
    "collapsed": false,
    "deletable": true,
    "editable": true
   },
   "outputs": [
    {
     "name": "stdout",
     "output_type": "stream",
     "text": [
      "Корреляция с целевой переменной: -0.048\n",
      "Корреляция сглаженного признака с целевой переменной: -0.058\n"
     ]
    }
   ],
   "source": [
    "print(\"Корреляция с целевой переменной: %.3f\" % np.corrcoef(howpop_train['pub_date_count'], howpop_train.favs_lognorm)[0][1])\n",
    "print(\"Корреляция сглаженного признака с целевой переменной: %.3f\" % np.corrcoef(howpop_train['pub_date_count_log'], howpop_train.favs_lognorm)[0][1])"
   ]
  },
  {
   "cell_type": "markdown",
   "metadata": {
    "deletable": true,
    "editable": true
   },
   "source": [
    "### Автор статьи\n",
    "**author**  "
   ]
  },
  {
   "cell_type": "markdown",
   "metadata": {
    "deletable": true,
    "editable": true
   },
   "source": [
    "Пропуски заполним"
   ]
  },
  {
   "cell_type": "code",
   "execution_count": 54,
   "metadata": {
    "collapsed": true,
    "deletable": true,
    "editable": true
   },
   "outputs": [],
   "source": [
    "howpop_train.author.fillna('unknow', inplace=True)\n",
    "howpop_test.author.fillna('unknow', inplace=True)"
   ]
  },
  {
   "cell_type": "code",
   "execution_count": 55,
   "metadata": {
    "collapsed": false,
    "deletable": true,
    "editable": true
   },
   "outputs": [
    {
     "data": {
      "text/plain": [
       "count     134137\n",
       "unique     22078\n",
       "top       unknow\n",
       "freq       36480\n",
       "Name: author, dtype: object"
      ]
     },
     "execution_count": 55,
     "metadata": {},
     "output_type": "execute_result"
    }
   ],
   "source": [
    "howpop_train.author.describe()"
   ]
  },
  {
   "cell_type": "code",
   "execution_count": 56,
   "metadata": {
    "collapsed": false,
    "deletable": true,
    "editable": true
   },
   "outputs": [
    {
     "data": {
      "text/plain": [
       "count       3990\n",
       "unique      1132\n",
       "top       unknow\n",
       "freq        1604\n",
       "Name: author, dtype: object"
      ]
     },
     "execution_count": 56,
     "metadata": {},
     "output_type": "execute_result"
    }
   ],
   "source": [
    "howpop_test.author.describe()"
   ]
  },
  {
   "cell_type": "markdown",
   "metadata": {
    "deletable": true,
    "editable": true
   },
   "source": [
    "Наиболее активные авторы"
   ]
  },
  {
   "cell_type": "code",
   "execution_count": 57,
   "metadata": {
    "collapsed": false,
    "deletable": true,
    "editable": true
   },
   "outputs": [
    {
     "data": {
      "text/plain": [
       "unknow               1604\n",
       "@alizar               156\n",
       "@marks                135\n",
       "@SLY_G                107\n",
       "@ragequit             106\n",
       "@semen_grinshtein      67\n",
       "@krasandm              47\n",
       "@PatientZero           43\n",
       "@lozga                 23\n",
       "@ivansychev            22\n",
       "Name: author, dtype: int64"
      ]
     },
     "execution_count": 57,
     "metadata": {},
     "output_type": "execute_result"
    }
   ],
   "source": [
    "howpop_test.author.value_counts()[:10]"
   ]
  },
  {
   "cell_type": "code",
   "execution_count": 58,
   "metadata": {
    "collapsed": false,
    "deletable": true,
    "editable": true
   },
   "outputs": [
    {
     "data": {
      "text/plain": [
       "unknow               36480\n",
       "@alizar               5292\n",
       "@marks                4711\n",
       "@SLY_G                1939\n",
       "@ivansychev           1350\n",
       "@semen_grinshtein     1171\n",
       "@jeston               1060\n",
       "@aleksandrit           633\n",
       "@XaocCPS               603\n",
       "@Mithgol               560\n",
       "Name: author, dtype: int64"
      ]
     },
     "execution_count": 58,
     "metadata": {},
     "output_type": "execute_result"
    }
   ],
   "source": [
    "howpop_train.author.value_counts()[:10]"
   ]
  },
  {
   "cell_type": "code",
   "execution_count": 59,
   "metadata": {
    "collapsed": false,
    "deletable": true,
    "editable": true
   },
   "outputs": [
    {
     "name": "stdout",
     "output_type": "stream",
     "text": [
      "Медиана кол-ва статей авторов (train): 2.00\n",
      "Медиана кол-ва статей авторов (test): 1.00\n"
     ]
    }
   ],
   "source": [
    "print(\"Медиана кол-ва статей авторов (train): %.2f\" % howpop_train.author.value_counts().median())\n",
    "print(\"Медиана кол-ва статей авторов (test): %.2f\" % howpop_test.author.value_counts().median())"
   ]
  },
  {
   "cell_type": "markdown",
   "metadata": {
    "deletable": true,
    "editable": true
   },
   "source": [
    "Отметим авторов, чьи статьи обычно набирают высокую популярность"
   ]
  },
  {
   "cell_type": "code",
   "execution_count": 60,
   "metadata": {
    "collapsed": false,
    "deletable": true,
    "editable": true
   },
   "outputs": [
    {
     "data": {
      "text/plain": [
       "<matplotlib.axes._subplots.AxesSubplot at 0x7f244c180f98>"
      ]
     },
     "execution_count": 60,
     "metadata": {},
     "output_type": "execute_result"
    },
    {
     "data": {
      "image/png": "[encoded data removed]",
      "text/plain": [
       "<matplotlib.figure.Figure at 0x7f2452cb5eb8>"
      ]
     },
     "metadata": {},
     "output_type": "display_data"
    }
   ],
   "source": [
    "author_pop = howpop_train.groupby(by='author').median()['favs_lognorm'].copy()\n",
    "author_pop.sort(ascending=False)\n",
    "\n",
    "plt.figure(figsize=(15,5))\n",
    "author_pop[:50].plot(kind='bar')"
   ]
  },
  {
   "cell_type": "markdown",
   "metadata": {
    "deletable": true,
    "editable": true
   },
   "source": [
    "Посмотрим как пересекаются множества авторов в тестовой и обучающей выборках"
   ]
  },
  {
   "cell_type": "code",
   "execution_count": 61,
   "metadata": {
    "collapsed": false,
    "deletable": true,
    "editable": true
   },
   "outputs": [
    {
     "name": "stdout",
     "output_type": "stream",
     "text": [
      "Количество авторов в train: 22078\n",
      "Количество авторов в test: 1132\n",
      "Количество авторов, которые есть в test, но не попали в train: 457\n",
      "Количество общих авторов: 674\n"
     ]
    }
   ],
   "source": [
    "auth_train = set(howpop_train.author.unique()) \n",
    "auth_test = set(howpop_test.author.unique())\n",
    "auth_inter = list(auth_test.intersection(auth_train))[1:]\n",
    "\n",
    "print(\"Количество авторов в train: %d\" % len(auth_train))\n",
    "print(\"Количество авторов в test: %d\" % len(auth_test))\n",
    "print(\"Количество авторов, которые есть в test, но не попали в train: %d\" % len(auth_test - auth_train))\n",
    "print(\"Количество общих авторов: %d\" % len(auth_inter))"
   ]
  },
  {
   "cell_type": "markdown",
   "metadata": {
    "deletable": true,
    "editable": true
   },
   "source": [
    "Количество статей из test, которые принадлежат \"общим\" авторам (включая неизвестных)"
   ]
  },
  {
   "cell_type": "code",
   "execution_count": 62,
   "metadata": {
    "collapsed": false,
    "deletable": true,
    "editable": true
   },
   "outputs": [
    {
     "data": {
      "text/plain": [
       "3364"
      ]
     },
     "execution_count": 62,
     "metadata": {},
     "output_type": "execute_result"
    }
   ],
   "source": [
    "sum(howpop_test.author.isin(auth_inter))"
   ]
  },
  {
   "cell_type": "code",
   "execution_count": 63,
   "metadata": {
    "collapsed": false,
    "deletable": true,
    "editable": true
   },
   "outputs": [
    {
     "data": {
      "text/plain": [
       "(138127, 26)"
      ]
     },
     "execution_count": 63,
     "metadata": {},
     "output_type": "execute_result"
    }
   ],
   "source": [
    "# объединяем выборки\n",
    "\n",
    "howpop = pd.concat((howpop_train, howpop_test), axis=0)\n",
    "howpop.shape"
   ]
  },
  {
   "cell_type": "markdown",
   "metadata": {
    "deletable": true,
    "editable": true
   },
   "source": [
    "Составим рейтинг популярности для \"общих\" авторов, т.е. которые попали и в test и в train"
   ]
  },
  {
   "cell_type": "code",
   "execution_count": 64,
   "metadata": {
    "collapsed": false,
    "deletable": true,
    "editable": true
   },
   "outputs": [
    {
     "data": {
      "text/plain": [
       "<matplotlib.axes._subplots.AxesSubplot at 0x7f24515fa908>"
      ]
     },
     "execution_count": 64,
     "metadata": {},
     "output_type": "execute_result"
    },
    {
     "data": {
      "image/png": "[encoded data removed]",
      "text/plain": [
       "<matplotlib.figure.Figure at 0x7f24519ba048>"
      ]
     },
     "metadata": {},
     "output_type": "display_data"
    }
   ],
   "source": [
    "howpop_train_cut = howpop_train[howpop_train.author.isin(auth_inter)]\n",
    "author_pop = howpop_train_cut.groupby(by='author').median()['favs_lognorm'].copy()\n",
    "author_pop.sort(ascending=False)\n",
    "\n",
    "plt.figure(figsize=(15,5))\n",
    "author_pop[:50].plot(kind='bar')"
   ]
  },
  {
   "cell_type": "markdown",
   "metadata": {
    "deletable": true,
    "editable": true
   },
   "source": [
    "**Самые активные авторы**"
   ]
  },
  {
   "cell_type": "code",
   "execution_count": 65,
   "metadata": {
    "collapsed": false,
    "deletable": true,
    "editable": true
   },
   "outputs": [
    {
     "data": {
      "text/plain": [
       "<matplotlib.axes._subplots.AxesSubplot at 0x7f244c178b38>"
      ]
     },
     "execution_count": 65,
     "metadata": {},
     "output_type": "execute_result"
    },
    {
     "data": {
      "image/png": "[encoded data removed]",
      "text/plain": [
       "<matplotlib.figure.Figure at 0x7f244c02f5f8>"
      ]
     },
     "metadata": {},
     "output_type": "display_data"
    }
   ],
   "source": [
    "plt.figure(figsize=(20,5))\n",
    "howpop[howpop.author.isin(auth_inter)].author.value_counts()[1:50].plot(kind='bar')"
   ]
  },
  {
   "cell_type": "markdown",
   "metadata": {
    "deletable": true,
    "editable": true
   },
   "source": [
    "Авторов, которые попали в обучающее и тестовое множество кодируем one-hot -- получим 674 бинарных фич"
   ]
  },
  {
   "cell_type": "code",
   "execution_count": 66,
   "metadata": {
    "collapsed": false,
    "deletable": true,
    "editable": true
   },
   "outputs": [],
   "source": [
    "def top_author_encoding(dataset, n_top):\n",
    "    authors = howpop[howpop.author.isin(auth_inter)].author.value_counts()[:n_top].index.tolist()\n",
    "    encoded = pd.DataFrame()\n",
    "    for author in authors:\n",
    "        encoded['author' + author] = np.where(dataset['author'].str.contains(author), 1, 0)\n",
    "    return encoded"
   ]
  },
  {
   "cell_type": "code",
   "execution_count": 67,
   "metadata": {
    "collapsed": false,
    "deletable": true,
    "editable": true
   },
   "outputs": [],
   "source": [
    "X_train_author = top_author_encoding(howpop_train, 674)\n",
    "X_test_author = top_author_encoding(howpop_test, 674)"
   ]
  },
  {
   "cell_type": "markdown",
   "metadata": {
    "deletable": true,
    "editable": true
   },
   "source": [
    "Использывалась линейная регрессия с lasso-регуляризацией для отбора информативных признаков, но это не дало улучшения в дальшейшем, поэтому следующую ячейку я закомментировал и использовал всех \"общих\" авторов."
   ]
  },
  {
   "cell_type": "code",
   "execution_count": 68,
   "metadata": {
    "collapsed": false,
    "deletable": true,
    "editable": true
   },
   "outputs": [
    {
     "data": {
      "text/plain": [
       "'\\nmodel = LassoCV()\\nmodel.fit(X_train_author, target)\\nprint(\"Количество ненулевый коэффициентов: %d\" % sum(model.coef_ != 0))\\n\\ncolumns = X_test_author.columns\\n\\nX_train_author = np.array(X_train_author[columns[model.coef_ != 0]])\\nX_test_author = np.array(X_test_author[columns[model.coef_ != 0]])\\n\\nX_train_author.shape\\n'"
      ]
     },
     "execution_count": 68,
     "metadata": {},
     "output_type": "execute_result"
    }
   ],
   "source": [
    "'''\n",
    "model = LassoCV()\n",
    "model.fit(X_train_author, target)\n",
    "print(\"Количество ненулевый коэффициентов: %d\" % sum(model.coef_ != 0))\n",
    "\n",
    "columns = X_test_author.columns\n",
    "\n",
    "X_train_author = np.array(X_train_author[columns[model.coef_ != 0]])\n",
    "X_test_author = np.array(X_test_author[columns[model.coef_ != 0]])\n",
    "\n",
    "X_train_author.shape\n",
    "'''"
   ]
  },
  {
   "cell_type": "markdown",
   "metadata": {
    "deletable": true,
    "editable": true
   },
   "source": [
    "*После селекции осталось 75 признаков*"
   ]
  },
  {
   "cell_type": "code",
   "execution_count": 49,
   "metadata": {
    "collapsed": true,
    "deletable": true,
    "editable": true
   },
   "outputs": [],
   "source": []
  },
  {
   "cell_type": "markdown",
   "metadata": {
    "deletable": true,
    "editable": true
   },
   "source": [
    "**Количество статей, опубликованных автором**"
   ]
  },
  {
   "cell_type": "code",
   "execution_count": 69,
   "metadata": {
    "collapsed": false,
    "deletable": true,
    "editable": true
   },
   "outputs": [],
   "source": [
    "howpop_train['author_activity'] = howpop_train['author'].map(howpop.groupby(by=['author']).size()).fillna(2)\n",
    "howpop_test['author_activity'] = howpop_test['author'].map(howpop.groupby(by=['author']).size()).fillna(1)"
   ]
  },
  {
   "cell_type": "markdown",
   "metadata": {
    "collapsed": true,
    "deletable": true,
    "editable": true
   },
   "source": [
    "**Период активности автора**"
   ]
  },
  {
   "cell_type": "code",
   "execution_count": 70,
   "metadata": {
    "collapsed": false,
    "deletable": true,
    "editable": true
   },
   "outputs": [],
   "source": [
    "def period(author):\n",
    "    pubs = howpop[howpop.author == author].published\n",
    "    if len(pubs) == 1:\n",
    "        period = 0\n",
    "    else:\n",
    "        period = (pubs.iloc[-1] - pubs.iloc[0]).days\n",
    "    return period"
   ]
  },
  {
   "cell_type": "code",
   "execution_count": 296,
   "metadata": {
    "collapsed": false,
    "deletable": true,
    "editable": true
   },
   "outputs": [
    {
     "name": "stdout",
     "output_type": "stream",
     "text": [
      "CPU times: user 2min 58s, sys: 66.2 ms, total: 2min 59s\n",
      "Wall time: 2min 59s\n"
     ]
    }
   ],
   "source": [
    "%%time\n",
    "train_period = pd.Series(list(auth_train)).map(lambda x: period(x))\n",
    "test_period = pd.Series(list(auth_test)).map(lambda x: period(x))"
   ]
  },
  {
   "cell_type": "markdown",
   "metadata": {
    "deletable": true,
    "editable": true
   },
   "source": [
    "Сериализация"
   ]
  },
  {
   "cell_type": "code",
   "execution_count": 297,
   "metadata": {
    "collapsed": false,
    "deletable": true,
    "editable": true
   },
   "outputs": [],
   "source": [
    "train_period_df = pd.DataFrame(list(train_period), index=list(auth_train), columns=['period'])\n",
    "test_period_df = pd.DataFrame(list(test_period), index=list(auth_test), columns=['period'])\n",
    "\n",
    "pickling_data('train_period_df', train_period_df)\n",
    "pickling_data('test_period_df', test_period_df)"
   ]
  },
  {
   "cell_type": "markdown",
   "metadata": {
    "deletable": true,
    "editable": true
   },
   "source": [
    "Загрузка"
   ]
  },
  {
   "cell_type": "code",
   "execution_count": 71,
   "metadata": {
    "collapsed": false,
    "deletable": true,
    "editable": true
   },
   "outputs": [],
   "source": [
    "train_period_df = load_data('train_period_df')\n",
    "test_period_df = load_data('test_period_df')"
   ]
  },
  {
   "cell_type": "code",
   "execution_count": 72,
   "metadata": {
    "collapsed": false,
    "deletable": true,
    "editable": true
   },
   "outputs": [],
   "source": [
    "howpop_train['activity_period'] = howpop_train['author'].map(train_period_df.period)\n",
    "howpop_test['activity_period'] = howpop_test['author'].map(test_period_df.period)"
   ]
  },
  {
   "cell_type": "markdown",
   "metadata": {
    "collapsed": true,
    "deletable": true,
    "editable": true
   },
   "source": [
    "**Среднее количество публикаций за период активности автора**"
   ]
  },
  {
   "cell_type": "code",
   "execution_count": 73,
   "metadata": {
    "collapsed": false,
    "deletable": true,
    "editable": true
   },
   "outputs": [],
   "source": [
    "howpop_train['activity_ratio'] = howpop_train['author_activity'] / (howpop_train['activity_period'] + 1)\n",
    "howpop_test['activity_ratio'] = howpop_test['author_activity'] / (howpop_test['activity_period'] + 1)"
   ]
  },
  {
   "cell_type": "code",
   "execution_count": 74,
   "metadata": {
    "collapsed": false,
    "deletable": true,
    "editable": true
   },
   "outputs": [
    {
     "data": {
      "image/png": "[encoded data removed]",
      "text/plain": [
       "<matplotlib.figure.Figure at 0x7f244c019eb8>"
      ]
     },
     "metadata": {},
     "output_type": "display_data"
    }
   ],
   "source": [
    "plt.figure(figsize=(15,7))\n",
    "plt.subplot(2,1,1)\n",
    "plt.title(\"Среднее количество публикаций за период активности автора\")\n",
    "plt.hist(howpop_train['activity_ratio'], bins=200)\n",
    "\n",
    "plt.subplot(2,1,2)\n",
    "plt.title(\"Ln (Среднее количество публикаций за период активности автора)\")\n",
    "plt.hist(np.log(howpop_train['activity_ratio']), bins=200)\n",
    "\n",
    "plt.title(\"Ln (Среднее количество публикаций за период активности автора)\")\n",
    "plt.hist(np.log(howpop_train['activity_ratio']), bins=200)\n",
    "plt.show()"
   ]
  },
  {
   "cell_type": "markdown",
   "metadata": {
    "deletable": true,
    "editable": true
   },
   "source": [
    "Экстремальное значение, которое можно наблюдать справа на графиках, соответствует \"неизвестному\" автору."
   ]
  },
  {
   "cell_type": "code",
   "execution_count": 75,
   "metadata": {
    "collapsed": false,
    "deletable": true,
    "editable": true
   },
   "outputs": [
    {
     "name": "stdout",
     "output_type": "stream",
     "text": [
      "Корреляция признака с целевой переменной: -0.185\n",
      "Корреляция сглаженного признака с целевой переменной: -0.231\n"
     ]
    }
   ],
   "source": [
    "print(\"Корреляция признака с целевой переменной: %.3f\" % np.corrcoef(howpop_train['activity_ratio'], howpop_train.favs_lognorm)[0][1])\n",
    "print(\"Корреляция сглаженного признака с целевой переменной: %.3f\" % np.corrcoef(np.log(howpop_train['activity_ratio']), howpop_train.favs_lognorm)[0][1])"
   ]
  },
  {
   "cell_type": "code",
   "execution_count": 76,
   "metadata": {
    "collapsed": false,
    "deletable": true,
    "editable": true
   },
   "outputs": [],
   "source": [
    "howpop_train['activity_ratio_log'] = np.log(howpop_train['author_activity'] / (howpop_train['activity_period'] + 1))\n",
    "howpop_test['activity_ratio_log'] = np.log(howpop_test['author_activity'] / (howpop_test['activity_period'] + 1))"
   ]
  },
  {
   "cell_type": "markdown",
   "metadata": {
    "deletable": true,
    "editable": true
   },
   "source": [
    "---\n",
    "## Формирование выборок\n",
    "Тестовый набор составляет ~3% обучающего. Аналогично тому как была сформирована тестовая выборка, составим валидационную выборку. От обучающей выборки \"отрежем\" 4000 записей, на которых будем проверять качество моделей."
   ]
  },
  {
   "cell_type": "code",
   "execution_count": 77,
   "metadata": {
    "collapsed": true,
    "deletable": true,
    "editable": true
   },
   "outputs": [],
   "source": [
    "target = howpop_train.favs_lognorm\n",
    "target_train = target[:-4000]\n",
    "target_valid = target[-4000:]"
   ]
  },
  {
   "cell_type": "code",
   "execution_count": 78,
   "metadata": {
    "collapsed": false,
    "deletable": true,
    "editable": true
   },
   "outputs": [
    {
     "name": "stdout",
     "output_type": "stream",
     "text": [
      "Размер обучающего множества: 130137\n",
      "Размер валидационного множества: 4000\n",
      "Размер тестового множества: 3990\n"
     ]
    }
   ],
   "source": [
    "print(\"Размер обучающего множества: %d\" % len(target_train))\n",
    "print(\"Размер валидационного множества: %d\" % len(target_valid))\n",
    "print(\"Размер тестового множества: %d\" % howpop_test.shape[0])"
   ]
  },
  {
   "cell_type": "markdown",
   "metadata": {
    "deletable": true,
    "editable": true
   },
   "source": [
    "Признаки"
   ]
  },
  {
   "cell_type": "code",
   "execution_count": 79,
   "metadata": {
    "collapsed": false,
    "deletable": true,
    "editable": true
   },
   "outputs": [
    {
     "data": {
      "text/plain": [
       "Index(['url', 'domain', 'post_id', 'published', 'author', 'flow', 'polling',\n",
       "       'content_len', 'title', 'log_content_len', 'geektimes', 'published_day',\n",
       "       'published_weekday', 'published_hour', 'published_date',\n",
       "       'pub_date_count', 'pub_date_count_log', 'author_activity',\n",
       "       'activity_period', 'activity_ratio', 'activity_ratio_log'],\n",
       "      dtype='object')"
      ]
     },
     "execution_count": 79,
     "metadata": {},
     "output_type": "execute_result"
    }
   ],
   "source": [
    "cols = ['geektimes', 'flow', 'log_content_len', 'published_weekday', 'published_hour', 'activity_ratio_log']\n",
    "\n",
    "howpop_test.columns"
   ]
  },
  {
   "cell_type": "code",
   "execution_count": 80,
   "metadata": {
    "collapsed": false,
    "deletable": true,
    "editable": true
   },
   "outputs": [
    {
     "name": "stdout",
     "output_type": "stream",
     "text": [
      "CPU times: user 1.28 s, sys: 0 ns, total: 1.28 s\n",
      "Wall time: 1.28 s\n"
     ]
    }
   ],
   "source": [
    "%%time\n",
    "\n",
    "X_train_num = scale(np.array(pd.get_dummies(howpop_train[cols])).astype('float64'), axis=0)\n",
    "X_valid_num = X_train_num[-4000:]\n",
    "X_train_num = X_train_num[:-4000]\n",
    "X_test_num = scale(np.array(pd.get_dummies(howpop_test[cols])).astype('float64'), axis=0)\n",
    "\n",
    "X_train_sparse = sparse.csr_matrix(np.hstack((X_train_author[:-4000], X_train_num)))\n",
    "X_valid_sparse = sparse.csr_matrix(np.hstack((X_train_author[-4000:], X_valid_num)))\n",
    "X_test_sparse = sparse.csr_matrix(np.hstack((X_test_author, X_test_num)))"
   ]
  },
  {
   "cell_type": "markdown",
   "metadata": {
    "deletable": true,
    "editable": true
   },
   "source": [
    "Построим простую модель линейной регрессии с l2-регуляризацией и обучим её на сформированных данных"
   ]
  },
  {
   "cell_type": "code",
   "execution_count": 81,
   "metadata": {
    "collapsed": false,
    "deletable": true,
    "editable": true
   },
   "outputs": [
    {
     "name": "stdout",
     "output_type": "stream",
     "text": [
      "Score: 0.816\n"
     ]
    }
   ],
   "source": [
    "model = Ridge()\n",
    "model.fit(X_train_sparse, target_train)\n",
    "pred = model.predict(X_valid_sparse)\n",
    "print(\"Score: %.3f\" % mean_squared_error(target_valid, pred))"
   ]
  },
  {
   "cell_type": "markdown",
   "metadata": {
    "deletable": true,
    "editable": true
   },
   "source": [
    "----\n",
    "## Работа с текстовыми признаками"
   ]
  },
  {
   "cell_type": "markdown",
   "metadata": {
    "deletable": true,
    "editable": true
   },
   "source": [
    "### Заголовки статей\n",
    "**title**  \n",
    "Названия статей разобьем на токены, приведем к нижнему регистру и преобразуем в нормальную форму (лемматизация). Затем выполним векторизацию -- представим заголовки статей в виде частотной матрицы (термины-на-документы)"
   ]
  },
  {
   "cell_type": "code",
   "execution_count": 82,
   "metadata": {
    "collapsed": true,
    "deletable": true,
    "editable": true
   },
   "outputs": [],
   "source": [
    "import nltk\n",
    "import pymorphy2\n",
    "morph = pymorphy2.MorphAnalyzer()"
   ]
  },
  {
   "cell_type": "code",
   "execution_count": 83,
   "metadata": {
    "collapsed": false,
    "deletable": true,
    "editable": true
   },
   "outputs": [
    {
     "data": {
      "text/plain": [
       "0       Новогодний подарок блоггерам — WordPress 2.3.2\n",
       "1    Сумасшедшие яйца, или сервис для отслеживания ...\n",
       "2    Сумасшедшие яйца, или сервис для отслеживания ...\n",
       "3       Сглаживание шрифтов, и субпиксельная отрисовка\n",
       "4                        Почему мне не нравится iPhone\n",
       "Name: title, dtype: object"
      ]
     },
     "execution_count": 83,
     "metadata": {},
     "output_type": "execute_result"
    }
   ],
   "source": [
    "howpop_train.title[:5]"
   ]
  },
  {
   "cell_type": "code",
   "execution_count": 84,
   "metadata": {
    "collapsed": true,
    "deletable": true,
    "editable": true
   },
   "outputs": [],
   "source": [
    "def lemmatization(word):\n",
    "    lemma = morph.parse(word)[0].normal_form\n",
    "    return lemma\n",
    "\n",
    "def title_cleaning(text, lemma=False, punc=False):\n",
    "    tokens = nltk.wordpunct_tokenize(text)\n",
    "    tokens = [token.lower() for token in tokens]\n",
    "    if not punc:\n",
    "        tokens = [token for token in tokens if token.isalnum()]\n",
    "    if lemma:\n",
    "        tokens = [lemmatization(token)for token in tokens]\n",
    "    return ' '.join(tokens)"
   ]
  },
  {
   "cell_type": "code",
   "execution_count": 85,
   "metadata": {
    "collapsed": false,
    "deletable": true,
    "editable": true
   },
   "outputs": [
    {
     "name": "stdout",
     "output_type": "stream",
     "text": [
      "CPU times: user 24.6 s, sys: 32.3 ms, total: 24.6 s\n",
      "Wall time: 24.6 s\n"
     ]
    }
   ],
   "source": [
    "%%time\n",
    "\n",
    "titles = list(howpop_train.title)\n",
    "titles_test = list(howpop_test.title)\n",
    "\n",
    "title_train_punc = [title_cleaning(title, punc=True) for title in titles]\n",
    "title_test_punc = [title_cleaning(title, punc=True) for title in titles_test]\n",
    "\n",
    "title_train_lemma = [title_cleaning(title, lemma=True) for title in titles]\n",
    "title_test_lemma = [title_cleaning(title, lemma=True) for title in titles_test]\n",
    "\n",
    "title_train = [title_cleaning(title) for title in titles]\n",
    "title_test = [title_cleaning(title) for title in titles_test]"
   ]
  },
  {
   "cell_type": "markdown",
   "metadata": {
    "deletable": true,
    "editable": true
   },
   "source": [
    "\"Очищенные\" заголовки статей"
   ]
  },
  {
   "cell_type": "code",
   "execution_count": 86,
   "metadata": {
    "collapsed": false,
    "deletable": true,
    "editable": true
   },
   "outputs": [
    {
     "data": {
      "text/plain": [
       "['оперное мини расследование',\n",
       " 'хочу телебраузер',\n",
       " 'opera 9 5 sdk для устройств',\n",
       " 'и снова о популярности',\n",
       " 'установка драйвера для видяхи nvidia в ubuntu 7 10']"
      ]
     },
     "execution_count": 86,
     "metadata": {},
     "output_type": "execute_result"
    }
   ],
   "source": [
    "title_train[20:25]"
   ]
  },
  {
   "cell_type": "code",
   "execution_count": 87,
   "metadata": {
    "collapsed": false,
    "deletable": true,
    "editable": true
   },
   "outputs": [
    {
     "data": {
      "text/plain": [
       "['оперный минь расследование',\n",
       " 'хотеть телебраузер',\n",
       " 'opera 9 5 sdk для устройство',\n",
       " 'и снова о популярность',\n",
       " 'установка драйвер для видяха nvidia в ubuntu 7 10']"
      ]
     },
     "execution_count": 87,
     "metadata": {},
     "output_type": "execute_result"
    }
   ],
   "source": [
    "title_train_lemma[20:25]"
   ]
  },
  {
   "cell_type": "code",
   "execution_count": 88,
   "metadata": {
    "collapsed": false,
    "deletable": true,
    "editable": true
   },
   "outputs": [
    {
     "data": {
      "text/plain": [
       "['оперное мини - расследование',\n",
       " 'хочу телебраузер !',\n",
       " 'opera 9 . 5 sdk для устройств',\n",
       " 'и снова о популярности',\n",
       " 'установка драйвера для видяхи nvidia в ubuntu 7 . 10']"
      ]
     },
     "execution_count": 88,
     "metadata": {},
     "output_type": "execute_result"
    }
   ],
   "source": [
    "title_train_punc[20:25]"
   ]
  },
  {
   "cell_type": "code",
   "execution_count": 89,
   "metadata": {
    "collapsed": false,
    "deletable": true,
    "editable": true
   },
   "outputs": [],
   "source": [
    "titles_train = [title_train, title_train_lemma, title_train_punc]\n",
    "labels = ['Standart', 'Lemmatization', 'Punctuation']"
   ]
  },
  {
   "cell_type": "markdown",
   "metadata": {
    "deletable": true,
    "editable": true
   },
   "source": [
    "**Векторизация**"
   ]
  },
  {
   "cell_type": "code",
   "execution_count": 90,
   "metadata": {
    "collapsed": false,
    "deletable": true,
    "editable": true
   },
   "outputs": [
    {
     "name": "stdout",
     "output_type": "stream",
     "text": [
      "Размер словаря для Standart: 38028\n",
      "CV score: 0.765\n",
      "\n",
      "Размер словаря для Lemmatization: 34960\n",
      "CV score: 0.792\n",
      "\n",
      "Размер словаря для Punctuation: 38029\n",
      "CV score: 0.765\n",
      "\n",
      "CPU times: user 38 s, sys: 138 ms, total: 38.2 s\n",
      "Wall time: 38.2 s\n"
     ]
    }
   ],
   "source": [
    "%%time\n",
    "\n",
    "vect = CountVectorizer(ngram_range=(1,3), min_df=5, max_df=0.5, lowercase=False)\n",
    "\n",
    "for label,data in zip(labels,titles_train):\n",
    "    vect.fit(data)\n",
    "    print(\"Размер словаря для %s: %d\" % (label, len(vect.vocabulary_)))\n",
    "    \n",
    "    X_title_train = vect.transform(title_train[:-4000])\n",
    "    X_title_valid = vect.transform(title_train[-4000:])\n",
    "    \n",
    "    # Обучим гребневую регрессию и оценим качество модели на валидационном множестве\n",
    "    \n",
    "    model = Ridge()\n",
    "    model.fit(X_title_train, target_train)\n",
    "    pred = model.predict(X_title_valid)\n",
    "    print(\"CV score: %.3f\\n\" % mean_squared_error(target_valid, pred))"
   ]
  },
  {
   "cell_type": "markdown",
   "metadata": {
    "deletable": true,
    "editable": true
   },
   "source": [
    "**TF-IDF взвешивание элементов частотной матрицы**"
   ]
  },
  {
   "cell_type": "code",
   "execution_count": 91,
   "metadata": {
    "collapsed": false,
    "deletable": true,
    "editable": true
   },
   "outputs": [],
   "source": [
    "tfidf = Pipeline([('vect', CountVectorizer(max_features=None, max_df=0.5, min_df=2, ngram_range=(1,3), lowercase=False)),\n",
    "                 ('trans', TfidfTransformer(use_idf=False))])"
   ]
  },
  {
   "cell_type": "code",
   "execution_count": 92,
   "metadata": {
    "collapsed": false,
    "deletable": true,
    "editable": true
   },
   "outputs": [
    {
     "name": "stdout",
     "output_type": "stream",
     "text": [
      "CPU times: user 6.51 s, sys: 16.9 ms, total: 6.52 s\n",
      "Wall time: 6.52 s\n"
     ]
    }
   ],
   "source": [
    "%%time\n",
    "\n",
    "X_title_train_tfidf = tfidf.fit_transform(title_train[:-4000])\n",
    "X_title_valid_tfidf = tfidf.transform(title_train[-4000:])\n",
    "X_title_test_tfidf = tfidf.transform(title_test)"
   ]
  },
  {
   "cell_type": "code",
   "execution_count": 93,
   "metadata": {
    "collapsed": false,
    "deletable": true,
    "editable": true
   },
   "outputs": [
    {
     "name": "stdout",
     "output_type": "stream",
     "text": [
      "Score: 0.657\n"
     ]
    }
   ],
   "source": [
    "model = Ridge()\n",
    "model.fit(X_title_train_tfidf, target_train)\n",
    "pred = model.predict(X_title_valid_tfidf)\n",
    "print(\"Score: %.3f\" % mean_squared_error(target_valid, pred))"
   ]
  },
  {
   "cell_type": "code",
   "execution_count": null,
   "metadata": {
    "collapsed": true,
    "deletable": true,
    "editable": true
   },
   "outputs": [],
   "source": []
  },
  {
   "cell_type": "markdown",
   "metadata": {
    "deletable": true,
    "editable": true
   },
   "source": [
    "**N-граммы символов**"
   ]
  },
  {
   "cell_type": "code",
   "execution_count": 94,
   "metadata": {
    "collapsed": true,
    "deletable": true,
    "editable": true
   },
   "outputs": [],
   "source": [
    "tfidf_char = Pipeline([('vect', CountVectorizer(max_features=None, max_df=0.5, \\\n",
    "                                                min_df=3, ngram_range=(1,5),   \\\n",
    "                                                lowercase=False, analyzer='char')),\n",
    "                       ('transf', TfidfTransformer(use_idf=True))])"
   ]
  },
  {
   "cell_type": "code",
   "execution_count": 95,
   "metadata": {
    "collapsed": false,
    "deletable": true,
    "editable": true
   },
   "outputs": [
    {
     "name": "stdout",
     "output_type": "stream",
     "text": [
      "CPU times: user 23.8 s, sys: 26.7 ms, total: 23.8 s\n",
      "Wall time: 23.8 s\n"
     ]
    }
   ],
   "source": [
    "%%time\n",
    "\n",
    "X_title_train_char = tfidf_char.fit_transform(title_train_punc[:-4000])\n",
    "X_title_valid_char = tfidf_char.transform(title_train_punc[-4000:])"
   ]
  },
  {
   "cell_type": "code",
   "execution_count": 96,
   "metadata": {
    "collapsed": false,
    "deletable": true,
    "editable": true
   },
   "outputs": [
    {
     "name": "stdout",
     "output_type": "stream",
     "text": [
      "Score: 0.630\n"
     ]
    }
   ],
   "source": [
    "model = Ridge()\n",
    "model.fit(X_title_train_char, target_train)\n",
    "pred = model.predict(X_title_valid_char)\n",
    "print(\"Score: %.3f\" % mean_squared_error(target_valid, pred))"
   ]
  },
  {
   "cell_type": "markdown",
   "metadata": {
    "deletable": true,
    "editable": true
   },
   "source": [
    "**Преобразование заголовков в частотные матрицы**  \n",
    "Объединяем списки заголовков тестового и обучающего наборов и обучаем векторизаторы\n",
    "\n",
    "N-grams"
   ]
  },
  {
   "cell_type": "code",
   "execution_count": 97,
   "metadata": {
    "collapsed": true,
    "deletable": true,
    "editable": true
   },
   "outputs": [],
   "source": [
    "tfidf.fit(title_train + title_test)\n",
    "X_title_train_tfidf = tfidf.transform(title_train)\n",
    "X_title_test_tfidf = tfidf.transform(title_test)"
   ]
  },
  {
   "cell_type": "markdown",
   "metadata": {
    "deletable": true,
    "editable": true
   },
   "source": [
    "N-chars"
   ]
  },
  {
   "cell_type": "code",
   "execution_count": 98,
   "metadata": {
    "collapsed": true,
    "deletable": true,
    "editable": true
   },
   "outputs": [],
   "source": [
    "tfidf_char.fit(title_train + title_test)\n",
    "X_title_train_char = tfidf_char.transform(title_train)\n",
    "X_title_test_char = tfidf_char.transform(title_test)"
   ]
  },
  {
   "cell_type": "markdown",
   "metadata": {
    "deletable": true,
    "editable": true
   },
   "source": [
    "### Анализ контента\n"
   ]
  },
  {
   "cell_type": "code",
   "execution_count": 99,
   "metadata": {
    "collapsed": true,
    "deletable": true,
    "editable": true
   },
   "outputs": [],
   "source": [
    "class lazyContent:\n",
    "    def __init__(self, file):\n",
    "        self.file = file\n",
    "              \n",
    "    def __iter__(self):\n",
    "        with open(self.file, 'r', encoding='utf8') as f:\n",
    "            data = f.readlines()\n",
    "            \n",
    "        for line in data:\n",
    "            json_row = ujson.loads(line)         \n",
    "            text_html = json_row['content']\n",
    "            clean_text = BeautifulSoup(text_html).text             # удаляем html-тэги\n",
    "            yield clean_text"
   ]
  },
  {
   "cell_type": "code",
   "execution_count": 100,
   "metadata": {
    "collapsed": false,
    "deletable": true,
    "editable": true
   },
   "outputs": [
    {
     "name": "stdout",
     "output_type": "stream",
     "text": [
      "CPU times: user 5 µs, sys: 0 ns, total: 5 µs\n",
      "Wall time: 8.34 µs\n"
     ]
    }
   ],
   "source": [
    "%%time\n",
    "\n",
    "train_content = lazyContent(path_to_data + 'howpop_train.jsonlines')\n",
    "test_content = lazyContent(path_to_data + 'howpop_test.jsonlines')"
   ]
  },
  {
   "cell_type": "code",
   "execution_count": 101,
   "metadata": {
    "collapsed": false,
    "deletable": true,
    "editable": true
   },
   "outputs": [
    {
     "name": "stdout",
     "output_type": "stream",
     "text": [
      "Как всегда я плетусь в самом конце WP-движения, это я о скорости реакции на анонсы релизов)\r\n",
      "Уже успели выложить и две разные версии русского вордпресса 2.3.2, который только-только сошёл с конвейера (от Максима  и от mywordpress.ru), но, тем не менее, я всё же рискну быть не оригинальным и отписать ещё раз изменения со своими комментариями.\r\n",
      "И так, данные взяты из официального анонса.\r\n",
      "Улучшена производительность, при обработке постов, перед выводом пользователю.Надеюсь, я правильно понял, то, что написано в этом тикете.При выводе поста, да и любой другой страницы, производится множественный вызов функции get_post, через которую работают такие функции как the_title, get_permalink и т.д. Причём, хоть данные полученные от get_posts и кэшируются, но фильтрация/отбор данных происходит после получения уже ВСЕХ данных, а не ДО, что естественно сказывается на производительности. В 2.3.2 это пофиксили.\r\n",
      "Улучшена работа функции is_admin(). Теперь нет возможности получить доступ к «Черновикам» администраторов обычному пользователю.О «дыре» с доступом к черновикам я уже писал, вот теперь это уже и не дыра вовсе.\r\n",
      "Ошибки базы данных теперь показываются только при включенном WP_DEBUG.Ещё одна перестраховка от «шибко-хитрых-хацкеров», чтобы те не могли узнать названия таблиц вашей установки WordPress, при попытках sql-инъекций.\r\n",
      "Во время установки WordPress, при нехватке прав у пользователя БД, будет выдаваться ошибка.А, следовательно, и не будет создан «кривой» config.\r\n",
      "Появился шаблон для отображения ошибок при подключении к БД.Теперь любой пользователь может внести изменения в файл wp-content/db-error.php, который будет показан при невозможности подключиться к БД (например, если превышено количество одновременных подключений).\r\n",
      "Добавлена дополнительная проверка при обработке текста, который конвертируется в ссылку.Тут имеет место быть событие, когда вы вставляете текст с http://, а он автоматически конвертируется в аналогичную ссылку. Повышена производительность за счёт того, что теперь функция преобразования различает обычные ссылки, фтп и почтовые ящики. Стоит отметить, что, судя по всему подобные ссылки (за исключением ящиков) автоматически будут отображаться с rel=«nofollow», во всяком случае, тут всё указывает на это.\r\n",
      "Внесены изменения в работу рассылки почты по POP3, чтобы избежать возможных XSS-атак.Ещё один баг закрыт.\r\n",
      "Запрос пароля к записи будет выдаваться только тем пользователям, у кого есть права на изменение этой конкретной записи. Всё это относится только к сторонним-клиентским программам, работающим через XML-RPC.\r\n",
      "Ещё одно изменение в XML-RPC, которое связано с отображением данных о пользователе, при вызове wp.getAuthors.Данные теперь выводятся в более ограниченном формате, а так же добавлена проверка, что пользователь имеет минимальные права (редактирование постов), чтобы ограничить распространение информации, такой как имя пользователя, его логин и прочее.\r\n",
      "И ещё целый ворох проверок в методах XML-RPC и App, для улучшения безопасности.\r\n",
      "И совсем маленькое добавления при проверке путей файлов, на win-серверах.\r\n",
      "Вот и всё. Вроде бы и не много, но и не мало. Ставить, я думаю, стоит, но… только после того, как голова и руки будут действовать активно и правильно, апосля празднования НГ, а то можно дел наворотить)\r\n",
      "Оригинал статьи «Новогодний подарок блоггерам — WordPress 2.3.2»\n"
     ]
    }
   ],
   "source": [
    "for sample in train_content:\n",
    "    print(sample)\n",
    "    break"
   ]
  },
  {
   "cell_type": "markdown",
   "metadata": {
    "deletable": true,
    "editable": true
   },
   "source": [
    "**TO DO**  \n",
    "* Сделать нормализацию текста  \n",
    "* Векторизация"
   ]
  },
  {
   "cell_type": "code",
   "execution_count": null,
   "metadata": {
    "collapsed": true,
    "deletable": true,
    "editable": true
   },
   "outputs": [],
   "source": []
  },
  {
   "cell_type": "code",
   "execution_count": null,
   "metadata": {
    "collapsed": true,
    "deletable": true,
    "editable": true
   },
   "outputs": [],
   "source": []
  },
  {
   "cell_type": "code",
   "execution_count": null,
   "metadata": {
    "collapsed": true,
    "deletable": true,
    "editable": true
   },
   "outputs": [],
   "source": []
  },
  {
   "cell_type": "markdown",
   "metadata": {
    "collapsed": true,
    "deletable": true,
    "editable": true
   },
   "source": [
    "## Построение прогноза"
   ]
  },
  {
   "cell_type": "markdown",
   "metadata": {
    "deletable": true,
    "editable": true
   },
   "source": [
    "**Константное предсказание**"
   ]
  },
  {
   "cell_type": "code",
   "execution_count": 102,
   "metadata": {
    "collapsed": false,
    "deletable": true,
    "editable": true
   },
   "outputs": [
    {
     "data": {
      "text/plain": [
       "1.0055680788892141"
      ]
     },
     "execution_count": 102,
     "metadata": {},
     "output_type": "execute_result"
    }
   ],
   "source": [
    "const = np.zeros(len(howpop_train))\n",
    "mean_squared_error(target, const)"
   ]
  },
  {
   "cell_type": "markdown",
   "metadata": {
    "deletable": true,
    "editable": true
   },
   "source": [
    "**Решение**"
   ]
  },
  {
   "cell_type": "markdown",
   "metadata": {
    "deletable": true,
    "editable": true
   },
   "source": [
    "Объединяем матрицы признаков"
   ]
  },
  {
   "cell_type": "code",
   "execution_count": 103,
   "metadata": {
    "collapsed": true,
    "deletable": true,
    "editable": true
   },
   "outputs": [],
   "source": [
    "X_train_num = scale(np.array(pd.get_dummies(howpop_train[cols])).astype('float64'), axis=0)\n",
    "X_test_num = scale(np.array(pd.get_dummies(howpop_test[cols])).astype('float64'), axis=0)\n",
    "\n",
    "X_train_sparse = sparse.csr_matrix(np.hstack((X_train_author, X_train_num)))\n",
    "X_test_sparse = sparse.csr_matrix(np.hstack((X_test_author, X_test_num)))\n",
    "\n",
    "X_train = sparse.hstack((X_title_train_char, X_title_train_tfidf, X_train_sparse))\n",
    "X_test = sparse.hstack((X_title_test_char, X_title_test_tfidf, X_test_sparse))"
   ]
  },
  {
   "cell_type": "code",
   "execution_count": 104,
   "metadata": {
    "collapsed": false,
    "deletable": true,
    "editable": true
   },
   "outputs": [
    {
     "name": "stdout",
     "output_type": "stream",
     "text": [
      "Количество признаков: 467868\n"
     ]
    }
   ],
   "source": [
    "print(\"Количество признаков: %d\" % X_train.shape[1])"
   ]
  },
  {
   "cell_type": "markdown",
   "metadata": {
    "deletable": true,
    "editable": true
   },
   "source": [
    "Сохранение матриц на диск"
   ]
  },
  {
   "cell_type": "code",
   "execution_count": 105,
   "metadata": {
    "collapsed": true,
    "deletable": true,
    "editable": true
   },
   "outputs": [],
   "source": [
    "pickling_data('X_train_base', X_train)\n",
    "pickling_data('X_test_base', X_test)"
   ]
  },
  {
   "cell_type": "code",
   "execution_count": 106,
   "metadata": {
    "collapsed": true,
    "deletable": true,
    "editable": true
   },
   "outputs": [],
   "source": [
    "# Загрузка\n",
    "\n",
    "# X_train = load_data('X_train_base')\n",
    "# X_test = load_data('X_test_base')"
   ]
  },
  {
   "cell_type": "markdown",
   "metadata": {
    "deletable": true,
    "editable": true
   },
   "source": [
    "Обучаем модель"
   ]
  },
  {
   "cell_type": "code",
   "execution_count": 107,
   "metadata": {
    "collapsed": false,
    "deletable": true,
    "editable": true
   },
   "outputs": [
    {
     "name": "stdout",
     "output_type": "stream",
     "text": [
      "CPU times: user 45.2 s, sys: 978 µs, total: 45.2 s\n",
      "Wall time: 45.2 s\n"
     ]
    }
   ],
   "source": [
    "%%time\n",
    "\n",
    "model = Ridge(alpha=2.5)\n",
    "model.fit(X_train, target)\n",
    "pred = model.predict(X_test)"
   ]
  },
  {
   "cell_type": "code",
   "execution_count": null,
   "metadata": {
    "collapsed": true,
    "deletable": true,
    "editable": true
   },
   "outputs": [],
   "source": []
  },
  {
   "cell_type": "markdown",
   "metadata": {
    "deletable": true,
    "editable": true
   },
   "source": [
    "**Предсказание**  \n",
    "\n",
    "Записываем результат в таблицу"
   ]
  },
  {
   "cell_type": "code",
   "execution_count": 108,
   "metadata": {
    "collapsed": false,
    "deletable": true,
    "editable": true
   },
   "outputs": [],
   "source": [
    "prediction = pd.DataFrame(howpop_test.url)\n",
    "prediction['favs_lognorm'] = pred"
   ]
  },
  {
   "cell_type": "code",
   "execution_count": 109,
   "metadata": {
    "collapsed": false,
    "deletable": true,
    "editable": true
   },
   "outputs": [
    {
     "data": {
      "text/html": [
       "<div>\n",
       "<table border=\"1\" class=\"dataframe\">\n",
       "  <thead>\n",
       "    <tr style=\"text-align: right;\">\n",
       "      <th></th>\n",
       "      <th>url</th>\n",
       "      <th>favs_lognorm</th>\n",
       "    </tr>\n",
       "  </thead>\n",
       "  <tbody>\n",
       "    <tr>\n",
       "      <th>0</th>\n",
       "      <td>https://habrahabr.ru/post/314080/</td>\n",
       "      <td>0.314064</td>\n",
       "    </tr>\n",
       "    <tr>\n",
       "      <th>1</th>\n",
       "      <td>https://habrahabr.ru/company/plesk/blog/313732/</td>\n",
       "      <td>-1.197864</td>\n",
       "    </tr>\n",
       "    <tr>\n",
       "      <th>2</th>\n",
       "      <td>https://habrahabr.ru/company/etagi/blog/314000/</td>\n",
       "      <td>0.759064</td>\n",
       "    </tr>\n",
       "    <tr>\n",
       "      <th>3</th>\n",
       "      <td>https://habrahabr.ru/company/knopka/blog/314030/</td>\n",
       "      <td>0.656381</td>\n",
       "    </tr>\n",
       "    <tr>\n",
       "      <th>4</th>\n",
       "      <td>https://geektimes.ru/company/audiomania/blog/2...</td>\n",
       "      <td>0.296276</td>\n",
       "    </tr>\n",
       "  </tbody>\n",
       "</table>\n",
       "</div>"
      ],
      "text/plain": [
       "                                                 url  favs_lognorm\n",
       "0                  https://habrahabr.ru/post/314080/      0.314064\n",
       "1    https://habrahabr.ru/company/plesk/blog/313732/     -1.197864\n",
       "2    https://habrahabr.ru/company/etagi/blog/314000/      0.759064\n",
       "3   https://habrahabr.ru/company/knopka/blog/314030/      0.656381\n",
       "4  https://geektimes.ru/company/audiomania/blog/2...      0.296276"
      ]
     },
     "execution_count": 109,
     "metadata": {},
     "output_type": "execute_result"
    }
   ],
   "source": [
    "prediction.to_csv('solution.csv', index=False)\n",
    "pd.read_csv('solution.csv').head()"
   ]
  },
  {
   "cell_type": "markdown",
   "metadata": {
    "deletable": true,
    "editable": true
   },
   "source": [
    "Загружаем решение на [Kaggle](https://inclass.kaggle.com/c/howpop-habrahabr-favs-lognorm) и получаем **mse=0.5588**"
   ]
  },
  {
   "cell_type": "code",
   "execution_count": null,
   "metadata": {
    "collapsed": true,
    "deletable": true,
    "editable": true
   },
   "outputs": [],
   "source": []
  }
 ],
 "metadata": {
  "anaconda-cloud": {},
  "kernelspec": {
   "display_name": "Python [conda env:py35]",
   "language": "python",
   "name": "conda-env-py35-py"
  },
  "language_info": {
   "codemirror_mode": {
    "name": "ipython",
    "version": 3
   },
   "file_extension": ".py",
   "mimetype": "text/x-python",
   "name": "python",
   "nbconvert_exporter": "python",
   "pygments_lexer": "ipython3",
   "version": "3.5.2"
  }
 },
 "nbformat": 4,
 "nbformat_minor": 2
}
